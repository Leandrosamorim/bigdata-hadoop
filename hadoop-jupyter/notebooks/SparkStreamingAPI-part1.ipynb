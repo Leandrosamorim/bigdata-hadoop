{
 "cells": [
  {
   "cell_type": "code",
   "execution_count": 1,
   "id": "d961fdce",
   "metadata": {},
   "outputs": [],
   "source": [
    "import time\n",
    "import requests\n",
    "import datetime as dt\n",
    "from multiprocessing import Process\n",
    "\n",
    "import findspark\n",
    "findspark.init()\n",
    "from pathlib import Path\n",
    "from pyspark import SparkContext, SparkConf, SQLContext\n",
    "from pyspark.sql.types import StructType, StructField, IntegerType, StringType, FloatType, LongType\n",
    "from pyspark.sql.functions import col, regexp_replace\n",
    "from pyspark.sql import SparkSession"
   ]
  },
  {
   "cell_type": "code",
   "execution_count": 2,
   "id": "5215ec54",
   "metadata": {},
   "outputs": [],
   "source": [
    "conf = SparkConf().setAppName(\"spark-streaming-micro-batch\")\n",
    "sc = SparkContext(conf=conf)\n",
    "spark = SparkSession(sc)"
   ]
  },
  {
   "cell_type": "code",
   "execution_count": 3,
   "id": "ee402bbf",
   "metadata": {},
   "outputs": [],
   "source": [
    "def shape(df):\n",
    "    return (df.count(), len(df.columns))"
   ]
  },
  {
   "cell_type": "code",
   "execution_count": 4,
   "id": "ed17335c",
   "metadata": {},
   "outputs": [],
   "source": [
    "! hadoop fs -mkdir -p /user/root/onibus/sink"
   ]
  },
  {
   "cell_type": "code",
   "execution_count": 5,
   "id": "fe6e0074",
   "metadata": {},
   "outputs": [],
   "source": [
    "! hadoop fs -mkdir -p /user/root/onibus/source"
   ]
  },
  {
   "cell_type": "code",
   "execution_count": 6,
   "id": "93840ed1",
   "metadata": {},
   "outputs": [],
   "source": [
    "! hadoop fs -mkdir -p /user/root/onibus/checkpoint"
   ]
  },
  {
   "cell_type": "code",
   "execution_count": 7,
   "id": "73112286",
   "metadata": {},
   "outputs": [
    {
     "name": "stdout",
     "output_type": "stream",
     "text": [
      "Found 3 items\r\n",
      "drwxr-xr-x   - root supergroup          0 2023-08-25 00:04 /user/root/onibus/checkpoint\r\n",
      "drwxr-xr-x   - root supergroup          0 2023-08-25 00:03 /user/root/onibus/sink\r\n",
      "drwxr-xr-x   - root supergroup          0 2023-08-25 00:04 /user/root/onibus/source\r\n"
     ]
    }
   ],
   "source": [
    "! hadoop fs -ls /user/root/onibus/"
   ]
  },
  {
   "cell_type": "code",
   "execution_count": 8,
   "id": "5f6107a6",
   "metadata": {},
   "outputs": [],
   "source": [
    "BASE_URL = \"https://dados.mobilidade.rio/gps/sppo?\" \\\n",
    "           \"dataInicial={dt_inicial}+{hora_inicial}&dataFinal={dt_final}+{hora_final}\""
   ]
  },
  {
   "cell_type": "code",
   "execution_count": 9,
   "id": "f6d9ed18",
   "metadata": {},
   "outputs": [],
   "source": [
    "def call_bus_api(interval=60):\n",
    "    offset = dt.timedelta(hours=3)\n",
    "    dtf = dt.datetime.now() - offset\n",
    "    dti = dtf - dt.timedelta(seconds=interval)\n",
    "    dt_inicial = dti.strftime(\"%Y-%m-%d\")\n",
    "    dt_final = dtf.strftime(\"%Y-%m-%d\")\n",
    "    hora_inicial = dti.strftime(\"%H:%M:%S\")\n",
    "    hora_final = dtf.strftime(\"%H:%M:%S\")\n",
    "    ret = requests.get(\n",
    "        BASE_URL.format(\n",
    "            dt_inicial=dt_inicial, dt_final=dt_final, hora_inicial=hora_inicial, hora_final=hora_final\n",
    "        )\n",
    "    )\n",
    "    rdd = spark.sparkContext.parallelize([ret.text])\n",
    "    df = spark.read.json(rdd)\n",
    "    df.write.json(f\"/user/root/onibus/source/{dtf.strftime('%Y%m%d_%H%M%S')}\")"
   ]
  },
  {
   "cell_type": "code",
   "execution_count": 10,
   "id": "c50e5bd4",
   "metadata": {},
   "outputs": [],
   "source": [
    "def handle_stream(bdf, ctrl):\n",
    "    offset = dt.timedelta(hours=3)\n",
    "    dtt = dt.datetime.now() - offset\n",
    "    df = bdf.withColumn(\n",
    "        \"latitude\", regexp_replace(col(\"latitude\"), \",\", \".\").cast(FloatType())\n",
    "    ).withColumn(\n",
    "        \"longitude\", regexp_replace(col(\"longitude\"), \",\", \".\").cast(FloatType())\n",
    "    ).withColumn(\n",
    "        \"datahora\", col(\"datahora\").cast(LongType())\n",
    "    ).withColumn(\n",
    "        \"velocidade\", col(\"velocidade\").cast(IntegerType())\n",
    "    ).withColumn(\n",
    "        \"datahoraenvio\", col(\"datahoraenvio\").cast(LongType())\n",
    "    ).withColumn(\n",
    "        \"datahoraservidor\", col(\"datahoraservidor\").cast(LongType())\n",
    "    )\n",
    "    df.write.csv(f\"/user/root/onibus/sink/{dtt.strftime('%Y%m%d_%H%M%S')}\")"
   ]
  },
  {
   "cell_type": "code",
   "execution_count": 11,
   "id": "ac25e4c8",
   "metadata": {},
   "outputs": [],
   "source": [
    "schema = StructType([\n",
    "    StructField(\"ordem\", StringType(), True),\n",
    "    StructField(\"latitude\", StringType(), True),\n",
    "    StructField(\"longitude\", StringType(), True),\n",
    "    StructField(\"datahora\", StringType(), True),\n",
    "    StructField(\"velocidade\", StringType(), True),\n",
    "    StructField(\"linha\", StringType(), True),\n",
    "    StructField(\"datahoraenvio\", StringType(), True),\n",
    "    StructField(\"datahoraservidor\", StringType(), True),\n",
    "])"
   ]
  },
  {
   "cell_type": "code",
   "execution_count": 12,
   "id": "56ea6f14",
   "metadata": {},
   "outputs": [],
   "source": [
    "def loop(max_iter=10):\n",
    "    idx = 1\n",
    "    while True:\n",
    "        print(f\"{idx} - fetching API\")\n",
    "        call_bus_api()\n",
    "        if idx == max_iter:\n",
    "            break\n",
    "        time.sleep(60)\n",
    "        idx += 1"
   ]
  },
  {
   "cell_type": "code",
   "execution_count": 13,
   "id": "2bfd8e9c",
   "metadata": {},
   "outputs": [],
   "source": [
    "sdf = spark.readStream.schema(schema).json(\"/user/root/onibus/source/*/*\")"
   ]
  },
  {
   "cell_type": "code",
   "execution_count": 55,
   "id": "b810c5b5",
   "metadata": {},
   "outputs": [],
   "source": [
    "stream_handle = sdf.writeStream                                                  \\\n",
    "                   .outputMode(\"append\")                                         \\\n",
    "                   .foreachBatch(handle_stream)                                  \\\n",
    "                   .trigger(processingTime=\"3 minutes\")                          \\\n",
    "                   .option(\"checkpointLocation\", \"/user/root/onibus/checkpoint\") \\\n",
    "                   .start()"
   ]
  },
  {
   "cell_type": "code",
   "execution_count": 56,
   "id": "a56420c0",
   "metadata": {},
   "outputs": [
    {
     "data": {
      "text/plain": [
       "True"
      ]
     },
     "execution_count": 56,
     "metadata": {},
     "output_type": "execute_result"
    }
   ],
   "source": [
    "stream_handle.isActive"
   ]
  },
  {
   "cell_type": "code",
   "execution_count": 57,
   "id": "3ee52f11",
   "metadata": {},
   "outputs": [
    {
     "data": {
      "text/plain": [
       "{'message': 'Processing new data',\n",
       " 'isDataAvailable': True,\n",
       " 'isTriggerActive': True}"
      ]
     },
     "execution_count": 57,
     "metadata": {},
     "output_type": "execute_result"
    }
   ],
   "source": [
    "stream_handle.status"
   ]
  },
  {
   "cell_type": "markdown",
   "id": "5dca0983",
   "metadata": {},
   "source": [
    "#### Batch control\n",
    "\n",
    "- **batchID** `0` => `perdemos - antes da interrupção - 6_090`\n",
    "- **batchID** `1` => `7_474`\n",
    "- **batchID** `2` => `25_059`\n",
    "- **batchID** `3` => `17_384`\n",
    "- **batchID** `4` => previsto: `15_482` / real: `15_482`\n",
    "- **batchID** `5` => `0`\n",
    "- **total** `49_917 / 56_007`"
   ]
  },
  {
   "cell_type": "code",
   "execution_count": 68,
   "id": "711feca6",
   "metadata": {
    "scrolled": false
   },
   "outputs": [
    {
     "data": {
      "text/plain": [
       "{'id': 'fd28bb24-84b6-45a9-920f-a23b4a07721f',\n",
       " 'runId': '269cbe2a-a507-4078-acde-69b15140cbca',\n",
       " 'name': None,\n",
       " 'timestamp': '2023-08-25T00:30:00.001Z',\n",
       " 'batchId': 5,\n",
       " 'numInputRows': 0,\n",
       " 'inputRowsPerSecond': 0.0,\n",
       " 'processedRowsPerSecond': 0.0,\n",
       " 'durationMs': {'getOffset': 3669, 'triggerExecution': 3753},\n",
       " 'stateOperators': [],\n",
       " 'sources': [{'description': 'FileStreamSource[hdfs://node-master:9000/user/root/onibus/source/*/*]',\n",
       "   'startOffset': {'logOffset': 4},\n",
       "   'endOffset': {'logOffset': 4},\n",
       "   'numInputRows': 0,\n",
       "   'inputRowsPerSecond': 0.0,\n",
       "   'processedRowsPerSecond': 0.0}],\n",
       " 'sink': {'description': 'ForeachBatchSink'}}"
      ]
     },
     "execution_count": 68,
     "metadata": {},
     "output_type": "execute_result"
    }
   ],
   "source": [
    "stream_handle.lastProgress"
   ]
  },
  {
   "cell_type": "code",
   "execution_count": 69,
   "id": "d54edeed",
   "metadata": {},
   "outputs": [
    {
     "data": {
      "text/plain": [
       "[{'id': 'fd28bb24-84b6-45a9-920f-a23b4a07721f',\n",
       "  'runId': '269cbe2a-a507-4078-acde-69b15140cbca',\n",
       "  'name': None,\n",
       "  'timestamp': '2023-08-25T00:26:55.603Z',\n",
       "  'batchId': 4,\n",
       "  'numInputRows': 15482,\n",
       "  'processedRowsPerSecond': 2030.4262295081967,\n",
       "  'durationMs': {'addBatch': 2674,\n",
       "   'getBatch': 140,\n",
       "   'getOffset': 3366,\n",
       "   'queryPlanning': 63,\n",
       "   'triggerExecution': 7625,\n",
       "   'walCommit': 550},\n",
       "  'stateOperators': [],\n",
       "  'sources': [{'description': 'FileStreamSource[hdfs://node-master:9000/user/root/onibus/source/*/*]',\n",
       "    'startOffset': {'logOffset': 3},\n",
       "    'endOffset': {'logOffset': 4},\n",
       "    'numInputRows': 15482,\n",
       "    'processedRowsPerSecond': 2030.4262295081967}],\n",
       "  'sink': {'description': 'ForeachBatchSink'}},\n",
       " {'id': 'fd28bb24-84b6-45a9-920f-a23b4a07721f',\n",
       "  'runId': '269cbe2a-a507-4078-acde-69b15140cbca',\n",
       "  'name': None,\n",
       "  'timestamp': '2023-08-25T00:27:03.229Z',\n",
       "  'batchId': 5,\n",
       "  'numInputRows': 0,\n",
       "  'inputRowsPerSecond': 0.0,\n",
       "  'processedRowsPerSecond': 0.0,\n",
       "  'durationMs': {'getOffset': 2411, 'triggerExecution': 2412},\n",
       "  'stateOperators': [],\n",
       "  'sources': [{'description': 'FileStreamSource[hdfs://node-master:9000/user/root/onibus/source/*/*]',\n",
       "    'startOffset': {'logOffset': 4},\n",
       "    'endOffset': {'logOffset': 4},\n",
       "    'numInputRows': 0,\n",
       "    'inputRowsPerSecond': 0.0,\n",
       "    'processedRowsPerSecond': 0.0}],\n",
       "  'sink': {'description': 'ForeachBatchSink'}},\n",
       " {'id': 'fd28bb24-84b6-45a9-920f-a23b4a07721f',\n",
       "  'runId': '269cbe2a-a507-4078-acde-69b15140cbca',\n",
       "  'name': None,\n",
       "  'timestamp': '2023-08-25T00:30:00.001Z',\n",
       "  'batchId': 5,\n",
       "  'numInputRows': 0,\n",
       "  'inputRowsPerSecond': 0.0,\n",
       "  'processedRowsPerSecond': 0.0,\n",
       "  'durationMs': {'getOffset': 3669, 'triggerExecution': 3753},\n",
       "  'stateOperators': [],\n",
       "  'sources': [{'description': 'FileStreamSource[hdfs://node-master:9000/user/root/onibus/source/*/*]',\n",
       "    'startOffset': {'logOffset': 4},\n",
       "    'endOffset': {'logOffset': 4},\n",
       "    'numInputRows': 0,\n",
       "    'inputRowsPerSecond': 0.0,\n",
       "    'processedRowsPerSecond': 0.0}],\n",
       "  'sink': {'description': 'ForeachBatchSink'}}]"
      ]
     },
     "execution_count": 69,
     "metadata": {},
     "output_type": "execute_result"
    }
   ],
   "source": [
    "stream_handle.recentProgress"
   ]
  },
  {
   "cell_type": "code",
   "execution_count": 70,
   "id": "a953dc79",
   "metadata": {},
   "outputs": [],
   "source": [
    "stream_handle.stop()"
   ]
  },
  {
   "cell_type": "markdown",
   "id": "159eb286",
   "metadata": {},
   "source": [
    "> interrupt cell without stopping kernel: `ESC + I (2x)`<br/>\n",
    "> by Pedro Nora & ChatGPT"
   ]
  },
  {
   "cell_type": "code",
   "execution_count": 27,
   "id": "dc737885",
   "metadata": {
    "scrolled": true
   },
   "outputs": [
    {
     "name": "stdout",
     "output_type": "stream",
     "text": [
      "1 - fetching API\n",
      "2 - fetching API\n",
      "3 - fetching API\n",
      "4 - fetching API\n",
      "5 - fetching API\n",
      "6 - fetching API\n",
      "7 - fetching API\n",
      "8 - fetching API\n",
      "9 - fetching API\n",
      "10 - fetching API\n"
     ]
    }
   ],
   "source": [
    "p = Process(target=loop)\n",
    "p.start()"
   ]
  },
  {
   "cell_type": "code",
   "execution_count": 48,
   "id": "9ba3783b",
   "metadata": {
    "scrolled": false
   },
   "outputs": [
    {
     "name": "stdout",
     "output_type": "stream",
     "text": [
      "Found 12 items\n",
      "drwxr-xr-x   - root supergroup          0 2023-08-25 00:08 /user/root/onibus/source/20230824_210642\n",
      "drwxr-xr-x   - root supergroup          0 2023-08-25 00:11 /user/root/onibus/source/20230824_210914\n",
      "drwxr-xr-x   - root supergroup          0 2023-08-25 00:13 /user/root/onibus/source/20230824_211324\n",
      "drwxr-xr-x   - root supergroup          0 2023-08-25 00:14 /user/root/onibus/source/20230824_211432\n",
      "drwxr-xr-x   - root supergroup          0 2023-08-25 00:15 /user/root/onibus/source/20230824_211543\n",
      "drwxr-xr-x   - root supergroup          0 2023-08-25 00:16 /user/root/onibus/source/20230824_211650\n",
      "drwxr-xr-x   - root supergroup          0 2023-08-25 00:18 /user/root/onibus/source/20230824_211756\n",
      "drwxr-xr-x   - root supergroup          0 2023-08-25 00:19 /user/root/onibus/source/20230824_211902\n",
      "drwxr-xr-x   - root supergroup          0 2023-08-25 00:20 /user/root/onibus/source/20230824_212011\n",
      "drwxr-xr-x   - root supergroup          0 2023-08-25 00:21 /user/root/onibus/source/20230824_212116\n",
      "drwxr-xr-x   - root supergroup          0 2023-08-25 00:22 /user/root/onibus/source/20230824_212221\n",
      "drwxr-xr-x   - root supergroup          0 2023-08-25 00:23 /user/root/onibus/source/20230824_212326\n"
     ]
    }
   ],
   "source": [
    "! hadoop fs -ls /user/root/onibus/source/"
   ]
  },
  {
   "cell_type": "code",
   "execution_count": 47,
   "id": "9b267c67",
   "metadata": {},
   "outputs": [
    {
     "name": "stdout",
     "output_type": "stream",
     "text": [
      "Found 4 items\r\n",
      "drwxr-xr-x   - root supergroup          0 2023-08-25 00:11 /user/root/onibus/sink/20230824_211105\r\n",
      "drwxr-xr-x   - root supergroup          0 2023-08-25 00:16 /user/root/onibus/sink/20230824_211606\r\n",
      "drwxr-xr-x   - root supergroup          0 2023-08-25 00:18 /user/root/onibus/sink/20230824_211803\r\n",
      "drwxr-xr-x   - root supergroup          0 2023-08-25 00:21 /user/root/onibus/sink/20230824_212101\r\n"
     ]
    }
   ],
   "source": [
    "! hadoop fs -ls /user/root/onibus/sink/"
   ]
  },
  {
   "cell_type": "code",
   "execution_count": 60,
   "id": "2a8d59e4",
   "metadata": {},
   "outputs": [],
   "source": [
    "dir_source, dir_sink = \"/user/root/onibus/source/*/*\", \"/user/root/onibus/sink/*/*\""
   ]
  },
  {
   "cell_type": "code",
   "execution_count": 61,
   "id": "8706e713",
   "metadata": {},
   "outputs": [],
   "source": [
    "df_sink = spark.read.schema(schema).csv(dir_sink)"
   ]
  },
  {
   "cell_type": "code",
   "execution_count": 62,
   "id": "4b270c5a",
   "metadata": {},
   "outputs": [
    {
     "data": {
      "text/plain": [
       "(71489, 8)"
      ]
     },
     "execution_count": 62,
     "metadata": {},
     "output_type": "execute_result"
    }
   ],
   "source": [
    "shape(df_sink)"
   ]
  },
  {
   "cell_type": "code",
   "execution_count": 63,
   "id": "ad013e5c",
   "metadata": {},
   "outputs": [],
   "source": [
    "df_source = spark.read.schema(schema).json(dir_source)"
   ]
  },
  {
   "cell_type": "code",
   "execution_count": 64,
   "id": "80f564bd",
   "metadata": {},
   "outputs": [
    {
     "data": {
      "text/plain": [
       "(71489, 8)"
      ]
     },
     "execution_count": 64,
     "metadata": {},
     "output_type": "execute_result"
    }
   ],
   "source": [
    "shape(df_source)"
   ]
  }
 ],
 "metadata": {
  "kernelspec": {
   "display_name": "Python 3",
   "language": "python",
   "name": "python3"
  },
  "language_info": {
   "codemirror_mode": {
    "name": "ipython",
    "version": 3
   },
   "file_extension": ".py",
   "mimetype": "text/x-python",
   "name": "python",
   "nbconvert_exporter": "python",
   "pygments_lexer": "ipython3",
   "version": "3.6.9"
  }
 },
 "nbformat": 4,
 "nbformat_minor": 5
}
