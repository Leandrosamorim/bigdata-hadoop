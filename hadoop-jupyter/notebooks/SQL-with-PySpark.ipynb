{
 "cells": [
  {
   "cell_type": "markdown",
   "id": "7bf48e54",
   "metadata": {},
   "source": [
    "# SQL-with-PySpark"
   ]
  },
  {
   "cell_type": "code",
   "execution_count": 1,
   "id": "ae314107",
   "metadata": {},
   "outputs": [],
   "source": [
    "# Making sure to link pyspark to the right Spark folder with findspark\n",
    "import findspark\n",
    "import time\n",
    "from pathlib import Path\n",
    "from functools import wraps\n",
    "from pyspark import SparkContext, SparkConf, SQLContext\n",
    "from pyspark.sql import SparkSession\n",
    "findspark.init('/opt/spark')"
   ]
  },
  {
   "cell_type": "code",
   "execution_count": 2,
   "id": "d2c704b9",
   "metadata": {
    "scrolled": false
   },
   "outputs": [
    {
     "name": "stdout",
     "output_type": "stream",
     "text": [
      "Reading package lists... Done\n",
      "Building dependency tree       \n",
      "Reading state information... Done\n",
      "curl is already the newest version (7.58.0-2ubuntu3.24).\n",
      "0 upgraded, 0 newly installed, 0 to remove and 0 not upgraded.\n"
     ]
    }
   ],
   "source": [
    "! apt-get install -y curl"
   ]
  },
  {
   "cell_type": "code",
   "execution_count": null,
   "id": "76f7a9d3",
   "metadata": {},
   "outputs": [
    {
     "name": "stdout",
     "output_type": "stream",
     "text": [
      "  % Total    % Received % Xferd  Average Speed   Time    Time     Time  Current\n",
      "                                 Dload  Upload   Total   Spent    Left  Speed\n",
      "  0     0    0     0    0     0      0      0 --:--:-- --:--:-- --:--:--     0"
     ]
    }
   ],
   "source": [
    "! curl -O https://repo1.maven.org/maven2/org/xerial/sqlite-jdbc/3.34.0/sqlite-jdbc-3.34.0.jar"
   ]
  },
  {
   "cell_type": "code",
   "execution_count": null,
   "id": "e36b1448",
   "metadata": {
    "scrolled": true
   },
   "outputs": [],
   "source": [
    "spark = SparkSession.builder.appName(\n",
    "    \"SQL-with-PySpark\"\n",
    ").config(\n",
    "    \"spark.jars\",\n",
    "    f\"{str(Path.cwd())}/sqlite-jdbc-3.34.0.jar\"\n",
    ").config(\n",
    "    \"spark.driver.extraClassPath\",\n",
    "    f\"{str(Path.cwd())}/sqlite-jdbc-3.34.0.jar\"\n",
    ").getOrCreate()"
   ]
  },
  {
   "cell_type": "code",
   "execution_count": null,
   "id": "10001783",
   "metadata": {},
   "outputs": [],
   "source": [
    "datasets_path = Path(\"../datasets\")\n",
    "chinook_db = datasets_path / \"chinook\" / \"Chinook_Sqlite.sqlite\""
   ]
  },
  {
   "cell_type": "markdown",
   "id": "2eb1d9a1",
   "metadata": {},
   "source": [
    "### Tables:\n",
    "\n",
    "- Album\n",
    "- Artist\n",
    "- Customer\n",
    "- Employee\n",
    "- Genre\n",
    "- Invoice\n",
    "- InvoiceLine\n",
    "- MediaType\n",
    "- Playlist\n",
    "- PlaylistTrack\n",
    "- Track"
   ]
  },
  {
   "cell_type": "code",
   "execution_count": null,
   "id": "b4a81d69",
   "metadata": {},
   "outputs": [],
   "source": [
    "df = spark.read.format(\n",
    "    \"jdbc\"\n",
    ").options(\n",
    "    url=f\"jdbc:sqlite:{str(chinook_db)}\",\n",
    "    dbtable=\"Album\",\n",
    "    driver=\"org.sqlite.JDBC\"\n",
    ").load()"
   ]
  },
  {
   "cell_type": "code",
   "execution_count": null,
   "id": "9f8ae421",
   "metadata": {},
   "outputs": [],
   "source": [
    "df.show()"
   ]
  }
 ],
 "metadata": {
  "kernelspec": {
   "display_name": "Python 3",
   "language": "python",
   "name": "python3"
  },
  "language_info": {
   "codemirror_mode": {
    "name": "ipython",
    "version": 3
   },
   "file_extension": ".py",
   "mimetype": "text/x-python",
   "name": "python",
   "nbconvert_exporter": "python",
   "pygments_lexer": "ipython3",
   "version": "3.6.9"
  }
 },
 "nbformat": 4,
 "nbformat_minor": 5
}
