{
 "cells": [
  {
   "cell_type": "markdown",
   "id": "7bf48e54",
   "metadata": {},
   "source": [
    "# SQL-with-PySpark"
   ]
  },
  {
   "cell_type": "markdown",
   "id": "4a1b63d1",
   "metadata": {},
   "source": [
    "Load `chinook` data into PostgreSQL - `pg-data`\n",
    "\n",
    "- [Chinook_PostgreSql.sql](https://raw.githubusercontent.com/lerocha/chinook-database/master/ChinookDatabase/DataSources/Chinook_PostgreSql.sql)"
   ]
  },
  {
   "cell_type": "code",
   "execution_count": 1,
   "id": "ae314107",
   "metadata": {},
   "outputs": [],
   "source": [
    "# Making sure to link pyspark to the right Spark folder with findspark\n",
    "import findspark\n",
    "import time\n",
    "from pathlib import Path\n",
    "from functools import wraps\n",
    "from pyspark import SparkContext, SparkConf, SQLContext\n",
    "from pyspark.sql import SparkSession, Window\n",
    "from pyspark.sql.functions import col, sum, year, row_number, desc\n",
    "findspark.init('/opt/spark')"
   ]
  },
  {
   "cell_type": "markdown",
   "id": "325f3d3c",
   "metadata": {},
   "source": [
    "### Sugar syntax purpose"
   ]
  },
  {
   "cell_type": "code",
   "execution_count": 2,
   "id": "2e9bd8b1",
   "metadata": {},
   "outputs": [],
   "source": [
    "class AttributeDict(dict):\n",
    "    __getattr__ = dict.__getitem__\n",
    "    __setattr__ = dict.__setitem__\n",
    "    __delattr__ = dict.__delitem__"
   ]
  },
  {
   "cell_type": "markdown",
   "id": "0dce0d4f",
   "metadata": {},
   "source": [
    "## Downloading dependencies"
   ]
  },
  {
   "cell_type": "code",
   "execution_count": 3,
   "id": "d2c704b9",
   "metadata": {
    "scrolled": false
   },
   "outputs": [
    {
     "name": "stdout",
     "output_type": "stream",
     "text": [
      "Reading package lists... Done\n",
      "Building dependency tree       \n",
      "Reading state information... Done\n",
      "curl is already the newest version (7.58.0-2ubuntu3.24).\n",
      "0 upgraded, 0 newly installed, 0 to remove and 0 not upgraded.\n"
     ]
    }
   ],
   "source": [
    "! apt-get install -y curl"
   ]
  },
  {
   "cell_type": "code",
   "execution_count": 4,
   "id": "76f7a9d3",
   "metadata": {},
   "outputs": [
    {
     "name": "stdout",
     "output_type": "stream",
     "text": [
      "  % Total    % Received % Xferd  Average Speed   Time    Time     Time  Current\n",
      "                                 Dload  Upload   Total   Spent    Left  Speed\n",
      "100 1056k  100 1056k    0     0   467k      0  0:00:02  0:00:02 --:--:--  467k\n"
     ]
    }
   ],
   "source": [
    "! curl -O https://jdbc.postgresql.org/download/postgresql-42.6.0.jar"
   ]
  },
  {
   "cell_type": "code",
   "execution_count": 5,
   "id": "e36b1448",
   "metadata": {
    "scrolled": true
   },
   "outputs": [],
   "source": [
    "spark = SparkSession.builder.appName(\n",
    "    \"SQL-with-PySpark\"\n",
    ").config(\n",
    "    \"spark.jars\",\n",
    "    f\"{str(Path.cwd())}/postgresql-42.6.0.jar\"\n",
    ").config(\n",
    "    \"spark.driver.extraClassPath\",\n",
    "    f\"{str(Path.cwd())}/postgresql-42.6.0.jar\"\n",
    ").getOrCreate()"
   ]
  },
  {
   "cell_type": "markdown",
   "id": "2eb1d9a1",
   "metadata": {},
   "source": [
    "## Loading Tables from Relational Database\n",
    "\n",
    "### Tables:\n",
    "\n",
    "- Album\n",
    "- Artist\n",
    "- Customer\n",
    "- Employee\n",
    "- Genre\n",
    "- Invoice\n",
    "- InvoiceLine\n",
    "- MediaType\n",
    "- Playlist\n",
    "- PlaylistTrack\n",
    "- Track"
   ]
  },
  {
   "cell_type": "code",
   "execution_count": 6,
   "id": "de94992c",
   "metadata": {},
   "outputs": [],
   "source": [
    "tables = [\n",
    "    \"Album\",\n",
    "    \"Artist\",\n",
    "    \"Customer\",\n",
    "    \"Employee\",\n",
    "    \"Genre\",\n",
    "    \"Invoice\",\n",
    "    \"InvoiceLine\",\n",
    "    \"MediaType\",\n",
    "    \"Playlist\",\n",
    "    \"PlaylistTrack\",\n",
    "    \"Track\",\n",
    "]"
   ]
  },
  {
   "cell_type": "code",
   "execution_count": 7,
   "id": "6e2147c1",
   "metadata": {},
   "outputs": [],
   "source": [
    "tmp = {}\n",
    "for table in tables:\n",
    "    tmp[table.lower()] = spark.read.format(\n",
    "        \"jdbc\"\n",
    "    ).options(\n",
    "        url=\"jdbc:postgresql://pg-data:5433/postgres\",\n",
    "        dbtable=f\"chinook.\\\"{table}\\\"\",\n",
    "        driver=\"org.postgresql.Driver\",\n",
    "        user=\"postgres\",\n",
    "        password=\"postgres\"\n",
    "    ).load()\n",
    "df = AttributeDict(tmp)"
   ]
  },
  {
   "cell_type": "code",
   "execution_count": 8,
   "id": "9f8ae421",
   "metadata": {},
   "outputs": [
    {
     "name": "stdout",
     "output_type": "stream",
     "text": [
      "root\n",
      " |-- AlbumId: integer (nullable = true)\n",
      " |-- Title: string (nullable = true)\n",
      " |-- ArtistId: integer (nullable = true)\n",
      "\n"
     ]
    }
   ],
   "source": [
    "df.album.printSchema()"
   ]
  },
  {
   "cell_type": "code",
   "execution_count": 9,
   "id": "9c9684db",
   "metadata": {},
   "outputs": [
    {
     "name": "stdout",
     "output_type": "stream",
     "text": [
      "root\n",
      " |-- ArtistId: integer (nullable = true)\n",
      " |-- Name: string (nullable = true)\n",
      "\n"
     ]
    }
   ],
   "source": [
    "df.artist.printSchema()"
   ]
  },
  {
   "cell_type": "code",
   "execution_count": 10,
   "id": "80c7e0db",
   "metadata": {},
   "outputs": [
    {
     "name": "stdout",
     "output_type": "stream",
     "text": [
      "root\n",
      " |-- InvoiceId: integer (nullable = true)\n",
      " |-- CustomerId: integer (nullable = true)\n",
      " |-- InvoiceDate: timestamp (nullable = true)\n",
      " |-- BillingAddress: string (nullable = true)\n",
      " |-- BillingCity: string (nullable = true)\n",
      " |-- BillingState: string (nullable = true)\n",
      " |-- BillingCountry: string (nullable = true)\n",
      " |-- BillingPostalCode: string (nullable = true)\n",
      " |-- Total: decimal(10,2) (nullable = true)\n",
      "\n"
     ]
    }
   ],
   "source": [
    "df.invoice.printSchema()"
   ]
  },
  {
   "cell_type": "code",
   "execution_count": 11,
   "id": "5e8bd279",
   "metadata": {},
   "outputs": [
    {
     "name": "stdout",
     "output_type": "stream",
     "text": [
      "root\n",
      " |-- InvoiceLineId: integer (nullable = true)\n",
      " |-- InvoiceId: integer (nullable = true)\n",
      " |-- TrackId: integer (nullable = true)\n",
      " |-- UnitPrice: decimal(10,2) (nullable = true)\n",
      " |-- Quantity: integer (nullable = true)\n",
      "\n"
     ]
    }
   ],
   "source": [
    "df.invoiceline.printSchema()"
   ]
  },
  {
   "cell_type": "code",
   "execution_count": 12,
   "id": "e9dbb845",
   "metadata": {},
   "outputs": [
    {
     "name": "stdout",
     "output_type": "stream",
     "text": [
      "root\n",
      " |-- CustomerId: integer (nullable = true)\n",
      " |-- FirstName: string (nullable = true)\n",
      " |-- LastName: string (nullable = true)\n",
      " |-- Company: string (nullable = true)\n",
      " |-- Address: string (nullable = true)\n",
      " |-- City: string (nullable = true)\n",
      " |-- State: string (nullable = true)\n",
      " |-- Country: string (nullable = true)\n",
      " |-- PostalCode: string (nullable = true)\n",
      " |-- Phone: string (nullable = true)\n",
      " |-- Fax: string (nullable = true)\n",
      " |-- Email: string (nullable = true)\n",
      " |-- SupportRepId: integer (nullable = true)\n",
      "\n"
     ]
    }
   ],
   "source": [
    "df.customer.printSchema()"
   ]
  },
  {
   "cell_type": "markdown",
   "id": "b93bf05a",
   "metadata": {},
   "source": [
    "## Start querying\n",
    "\n",
    "### join example"
   ]
  },
  {
   "cell_type": "code",
   "execution_count": 13,
   "id": "ed5923a9",
   "metadata": {},
   "outputs": [
    {
     "name": "stdout",
     "output_type": "stream",
     "text": [
      "+-------+--------------------+--------------------+\n",
      "|AlbumId|               Title|          ArtistName|\n",
      "+-------+--------------------+--------------------+\n",
      "|    228|    Heroes, Season 1|              Heroes|\n",
      "|    308|Tchaikovsky: 1812...|Antal Dor�ti & Lo...|\n",
      "|     83|My Way: The Best ...|       Frank Sinatra|\n",
      "|    209|       Live [Disc 1]|    The Black Crowes|\n",
      "|    210|       Live [Disc 2]|    The Black Crowes|\n",
      "|    319|Armada: Music fro...|            Fretwork|\n",
      "|     38|  Heart of the Night|          Spyro Gyra|\n",
      "|    204|       Morning Dance|          Spyro Gyra|\n",
      "|    325|Bartok: Violin & ...|      Yehudi Menuhin|\n",
      "|    205|             In Step|Stevie Ray Vaugha...|\n",
      "|     67|Vault: Def Leppar...|         Def Leppard|\n",
      "|    161|          Demorou...|     M�nica Marianno|\n",
      "|    248|    Ao Vivo [IMPORT]|      Zeca Pagodinho|\n",
      "|    277|Bach: Goldberg Va...|      Wilhelm Kempff|\n",
      "|    142|Lulu Santos - RCA...|         Lulu Santos|\n",
      "|    143|Lulu Santos - RCA...|         Lulu Santos|\n",
      "|    175|Walking Into Clar...|        Page & Plant|\n",
      "|    192|         Raul Seixas|         Raul Seixas|\n",
      "|     72|The Cream Of Clapton|        Eric Clapton|\n",
      "|     73|           Unplugged|        Eric Clapton|\n",
      "+-------+--------------------+--------------------+\n",
      "only showing top 20 rows\n",
      "\n"
     ]
    }
   ],
   "source": [
    "df.album.join(\n",
    "    df.artist, df.album.ArtistId == df.artist.ArtistId, \"inner\"\n",
    ").select(\n",
    "    df.album.AlbumId, df.album.Title, df.artist.Name.alias(\"ArtistName\")\n",
    ").show()"
   ]
  },
  {
   "cell_type": "markdown",
   "id": "9cab699c",
   "metadata": {},
   "source": [
    "### aggregate example"
   ]
  },
  {
   "cell_type": "code",
   "execution_count": 14,
   "id": "388ad6c2",
   "metadata": {},
   "outputs": [],
   "source": [
    "dff = df.invoice.join(\n",
    "    df.customer, df.invoice.CustomerId == df.customer.CustomerId, \"inner\"\n",
    ").groupBy(\n",
    "    year(df.invoice.InvoiceDate).alias(\"Year\"), df.customer.CustomerId\n",
    ").agg(\n",
    "    sum(df.invoice.Total).alias(\"Total\")\n",
    ")"
   ]
  },
  {
   "cell_type": "markdown",
   "id": "79cb33d5",
   "metadata": {},
   "source": [
    "### window example"
   ]
  },
  {
   "cell_type": "code",
   "execution_count": 15,
   "id": "ba1338c1",
   "metadata": {},
   "outputs": [],
   "source": [
    "window = Window.partitionBy(\n",
    "    \"Year\"\n",
    ").orderBy(\n",
    "    desc(\"Total\")\n",
    ")"
   ]
  },
  {
   "cell_type": "code",
   "execution_count": 16,
   "id": "94b84833",
   "metadata": {},
   "outputs": [
    {
     "name": "stdout",
     "output_type": "stream",
     "text": [
      "+----+----------+-----+---+\n",
      "|Year|CustomerId|Total|idx|\n",
      "+----+----------+-----+---+\n",
      "|2013|         6|27.84|  1|\n",
      "|2013|        35|24.75|  2|\n",
      "|2013|        56|24.75|  3|\n",
      "|2012|        26|25.84|  1|\n",
      "|2012|        34|24.77|  2|\n",
      "|2012|        13|24.75|  3|\n",
      "|2009|        40|24.75|  1|\n",
      "|2009|        19|24.75|  2|\n",
      "|2009|         2|24.75|  3|\n",
      "|2010|        45|32.75|  1|\n",
      "|2010|         7|27.77|  2|\n",
      "|2010|         3|26.75|  3|\n",
      "|2011|        46|32.75|  1|\n",
      "|2011|         8|24.75|  2|\n",
      "|2011|        29|24.75|  3|\n",
      "+----+----------+-----+---+\n",
      "\n"
     ]
    }
   ],
   "source": [
    "dff.withColumn(\n",
    "    \"idx\", row_number().over(window)\n",
    ").filter(\n",
    "    col(\"idx\").isin(1, 2, 3)\n",
    ").show()"
   ]
  }
 ],
 "metadata": {
  "kernelspec": {
   "display_name": "Python 3",
   "language": "python",
   "name": "python3"
  },
  "language_info": {
   "codemirror_mode": {
    "name": "ipython",
    "version": 3
   },
   "file_extension": ".py",
   "mimetype": "text/x-python",
   "name": "python",
   "nbconvert_exporter": "python",
   "pygments_lexer": "ipython3",
   "version": "3.6.9"
  }
 },
 "nbformat": 4,
 "nbformat_minor": 5
}
