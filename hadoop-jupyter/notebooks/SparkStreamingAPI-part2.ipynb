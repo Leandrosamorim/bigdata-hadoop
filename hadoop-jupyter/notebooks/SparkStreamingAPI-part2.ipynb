{
 "cells": [
  {
   "cell_type": "code",
   "execution_count": 107,
   "id": "d961fdce",
   "metadata": {},
   "outputs": [],
   "source": [
    "import time\n",
    "import requests\n",
    "import datetime as dt\n",
    "from multiprocessing import Process\n",
    "\n",
    "import findspark\n",
    "findspark.init()\n",
    "from pathlib import Path\n",
    "from pyspark import SparkContext, SparkConf, SQLContext\n",
    "from pyspark.sql.types import StructType, StructField, IntegerType, StringType, FloatType, LongType\n",
    "from pyspark.sql.functions import col, regexp_replace, length, desc, row_number\n",
    "from pyspark.sql import SparkSession, Window"
   ]
  },
  {
   "cell_type": "code",
   "execution_count": 2,
   "id": "5215ec54",
   "metadata": {},
   "outputs": [],
   "source": [
    "conf = SparkConf().setAppName(\"spark-streaming-micro-batch\")\n",
    "sc = SparkContext(conf=conf)\n",
    "spark = SparkSession(sc)"
   ]
  },
  {
   "cell_type": "code",
   "execution_count": 3,
   "id": "ee402bbf",
   "metadata": {},
   "outputs": [],
   "source": [
    "def shape(df):\n",
    "    return (df.count(), len(df.columns))"
   ]
  },
  {
   "cell_type": "code",
   "execution_count": 78,
   "id": "ed17335c",
   "metadata": {},
   "outputs": [],
   "source": [
    "! hadoop fs -mkdir -p /user/root/onibus/sink2"
   ]
  },
  {
   "cell_type": "code",
   "execution_count": 79,
   "id": "fe6e0074",
   "metadata": {},
   "outputs": [],
   "source": [
    "! hadoop fs -mkdir -p /user/root/onibus/source2"
   ]
  },
  {
   "cell_type": "code",
   "execution_count": 80,
   "id": "93840ed1",
   "metadata": {},
   "outputs": [],
   "source": [
    "! hadoop fs -mkdir -p /user/root/onibus/checkpoint2"
   ]
  },
  {
   "cell_type": "code",
   "execution_count": 81,
   "id": "73112286",
   "metadata": {},
   "outputs": [
    {
     "name": "stdout",
     "output_type": "stream",
     "text": [
      "Found 6 items\r\n",
      "drwxr-xr-x   - root supergroup          0 2023-08-25 00:06 /user/root/onibus/checkpoint\r\n",
      "drwxr-xr-x   - root supergroup          0 2023-08-25 00:47 /user/root/onibus/checkpoint2\r\n",
      "drwxr-xr-x   - root supergroup          0 2023-08-25 00:27 /user/root/onibus/sink\r\n",
      "drwxr-xr-x   - root supergroup          0 2023-08-25 00:46 /user/root/onibus/sink2\r\n",
      "drwxr-xr-x   - root supergroup          0 2023-08-25 00:23 /user/root/onibus/source\r\n",
      "drwxr-xr-x   - root supergroup          0 2023-08-25 00:47 /user/root/onibus/source2\r\n"
     ]
    }
   ],
   "source": [
    "! hadoop fs -ls /user/root/onibus/"
   ]
  },
  {
   "cell_type": "code",
   "execution_count": 85,
   "id": "5f6107a6",
   "metadata": {},
   "outputs": [],
   "source": [
    "BASE_URL = \"https://dados.mobilidade.rio/gps/sppo?\" \\\n",
    "           \"dataInicial={dt_inicial}+{hora_inicial}&dataFinal={dt_final}+{hora_final}\""
   ]
  },
  {
   "cell_type": "code",
   "execution_count": 86,
   "id": "f6d9ed18",
   "metadata": {},
   "outputs": [],
   "source": [
    "def call_bus_api(interval=60):\n",
    "    offset = dt.timedelta(hours=3)\n",
    "    dtf = dt.datetime.now() - offset\n",
    "    dti = dtf - dt.timedelta(seconds=interval)\n",
    "    dt_inicial = dti.strftime(\"%Y-%m-%d\")\n",
    "    dt_final = dtf.strftime(\"%Y-%m-%d\")\n",
    "    hora_inicial = dti.strftime(\"%H:%M:%S\")\n",
    "    hora_final = dtf.strftime(\"%H:%M:%S\")\n",
    "    ret = requests.get(\n",
    "        BASE_URL.format(\n",
    "            dt_inicial=dt_inicial, dt_final=dt_final, hora_inicial=hora_inicial, hora_final=hora_final\n",
    "        )\n",
    "    )\n",
    "    rdd = spark.sparkContext.parallelize([ret.text])\n",
    "    df = spark.read.json(rdd)\n",
    "    df.write.json(f\"/user/root/onibus/source2/{dtf.strftime('%Y%m%d_%H%M%S')}\")"
   ]
  },
  {
   "cell_type": "code",
   "execution_count": 108,
   "id": "e47a7662",
   "metadata": {},
   "outputs": [],
   "source": [
    "window = Window.partitionBy(\n",
    "    col(\"ordem\")\n",
    ").orderBy(\n",
    "    desc(\"velocidade\")\n",
    ")"
   ]
  },
  {
   "cell_type": "code",
   "execution_count": 134,
   "id": "c50e5bd4",
   "metadata": {},
   "outputs": [],
   "source": [
    "def handle_stream(bdf, ctrl):\n",
    "    offset = dt.timedelta(hours=3)\n",
    "    dtt = dt.datetime.now() - offset\n",
    "    # just data conversion\n",
    "    df = bdf.withColumn(\n",
    "        \"latitude\", regexp_replace(col(\"latitude\"), \",\", \".\").cast(FloatType())\n",
    "    ).withColumn(\n",
    "        \"longitude\", regexp_replace(col(\"longitude\"), \",\", \".\").cast(FloatType())\n",
    "    ).withColumn(\n",
    "        \"datahora\", col(\"datahora\").cast(LongType())\n",
    "    ).withColumn(\n",
    "        \"velocidade\", col(\"velocidade\").cast(IntegerType())\n",
    "    ).withColumn(\n",
    "        \"datahoraenvio\", col(\"datahoraenvio\").cast(LongType())\n",
    "    ).withColumn(\n",
    "        \"datahoraservidor\", col(\"datahoraservidor\").cast(LongType())\n",
    "    )\n",
    "    # start transformation\n",
    "    # ordem => carroceria (janela)\n",
    "    # linhas regulares => tamanho três (filtro)\n",
    "    df.filter(\n",
    "        length(df.linha) == 3\n",
    "    ).withColumn(\n",
    "        \"idx\", row_number().over(window)\n",
    "    ).filter(\n",
    "        col(\"idx\").isin(1)  # top1 velocidade de cada carroceria nessa janela de tempo\n",
    "    ).select(\n",
    "        col(\"ordem\"), col(\"linha\"), col(\"velocidade\")\n",
    "    ).write.csv(f\"/user/root/onibus/sink2/{dtt.strftime('%Y%m%d_%H%M%S')}\")"
   ]
  },
  {
   "cell_type": "code",
   "execution_count": 89,
   "id": "ac25e4c8",
   "metadata": {},
   "outputs": [],
   "source": [
    "schema = StructType([\n",
    "    StructField(\"ordem\", StringType(), True),\n",
    "    StructField(\"latitude\", StringType(), True),\n",
    "    StructField(\"longitude\", StringType(), True),\n",
    "    StructField(\"datahora\", StringType(), True),\n",
    "    StructField(\"velocidade\", StringType(), True),\n",
    "    StructField(\"linha\", StringType(), True),\n",
    "    StructField(\"datahoraenvio\", StringType(), True),\n",
    "    StructField(\"datahoraservidor\", StringType(), True),\n",
    "])"
   ]
  },
  {
   "cell_type": "code",
   "execution_count": 135,
   "id": "56ea6f14",
   "metadata": {},
   "outputs": [],
   "source": [
    "def loop(max_iter=6):\n",
    "    idx = 1\n",
    "    while True:\n",
    "        print(f\"{idx} - fetching API\")\n",
    "        call_bus_api()\n",
    "        if idx == max_iter:\n",
    "            break\n",
    "        time.sleep(60)\n",
    "        idx += 1"
   ]
  },
  {
   "cell_type": "code",
   "execution_count": 111,
   "id": "2bfd8e9c",
   "metadata": {},
   "outputs": [],
   "source": [
    "sdf = spark.readStream.schema(schema).json(\"/user/root/onibus/source2/*/*\")"
   ]
  },
  {
   "cell_type": "code",
   "execution_count": 112,
   "id": "b810c5b5",
   "metadata": {},
   "outputs": [],
   "source": [
    "stream_handle = sdf.writeStream                                                  \\\n",
    "                   .outputMode(\"append\")                                         \\\n",
    "                   .foreachBatch(handle_stream)                                  \\\n",
    "                   .trigger(processingTime=\"3 minutes\")                          \\\n",
    "                   .option(\"checkpointLocation\", \"/user/root/onibus/checkpoint2\") \\\n",
    "                   .start()"
   ]
  },
  {
   "cell_type": "code",
   "execution_count": 139,
   "id": "a56420c0",
   "metadata": {},
   "outputs": [
    {
     "data": {
      "text/plain": [
       "True"
      ]
     },
     "execution_count": 139,
     "metadata": {},
     "output_type": "execute_result"
    }
   ],
   "source": [
    "stream_handle.isActive"
   ]
  },
  {
   "cell_type": "code",
   "execution_count": 138,
   "id": "3ee52f11",
   "metadata": {},
   "outputs": [
    {
     "data": {
      "text/plain": [
       "{'message': 'Waiting for next trigger',\n",
       " 'isDataAvailable': False,\n",
       " 'isTriggerActive': False}"
      ]
     },
     "execution_count": 138,
     "metadata": {},
     "output_type": "execute_result"
    }
   ],
   "source": [
    "stream_handle.status"
   ]
  },
  {
   "cell_type": "markdown",
   "id": "5dca0983",
   "metadata": {},
   "source": [
    "#### Batch control\n",
    "\n",
    "- **batchID** `0` => `perdemos - antes da interrupção - 6_090`\n",
    "- **batchID** `1` => `7_474`\n",
    "- **batchID** `2` => `25_059`\n",
    "- **batchID** `3` => `17_384`\n",
    "- **batchID** `4` => previsto: `15_482` / real: `15_482`\n",
    "- **batchID** `5` => `0`\n",
    "- **total** `49_917 / 56_007`"
   ]
  },
  {
   "cell_type": "code",
   "execution_count": 149,
   "id": "711feca6",
   "metadata": {
    "scrolled": false
   },
   "outputs": [
    {
     "data": {
      "text/plain": [
       "{'id': 'aaa8d33d-2584-4d1f-a3b7-e3c707e0552c',\n",
       " 'runId': '33371245-cde2-4d37-9e90-9f308cd8792e',\n",
       " 'name': None,\n",
       " 'timestamp': '2023-08-25T01:12:00.001Z',\n",
       " 'batchId': 5,\n",
       " 'numInputRows': 16072,\n",
       " 'inputRowsPerSecond': 89.28888888888889,\n",
       " 'processedRowsPerSecond': 7566.854990583804,\n",
       " 'durationMs': {'addBatch': 1179,\n",
       "  'getBatch': 52,\n",
       "  'getOffset': 756,\n",
       "  'queryPlanning': 10,\n",
       "  'triggerExecution': 2124,\n",
       "  'walCommit': 72},\n",
       " 'stateOperators': [],\n",
       " 'sources': [{'description': 'FileStreamSource[hdfs://node-master:9000/user/root/onibus/source2/*/*]',\n",
       "   'startOffset': {'logOffset': 4},\n",
       "   'endOffset': {'logOffset': 5},\n",
       "   'numInputRows': 16072,\n",
       "   'inputRowsPerSecond': 89.28888888888889,\n",
       "   'processedRowsPerSecond': 7566.854990583804}],\n",
       " 'sink': {'description': 'ForeachBatchSink'}}"
      ]
     },
     "execution_count": 149,
     "metadata": {},
     "output_type": "execute_result"
    }
   ],
   "source": [
    "stream_handle.lastProgress"
   ]
  },
  {
   "cell_type": "code",
   "execution_count": 120,
   "id": "41c2b71b",
   "metadata": {},
   "outputs": [
    {
     "data": {
      "text/plain": [
       "[{'id': 'aaa8d33d-2584-4d1f-a3b7-e3c707e0552c',\n",
       "  'runId': '33371245-cde2-4d37-9e90-9f308cd8792e',\n",
       "  'name': None,\n",
       "  'timestamp': '2023-08-25T00:53:31.092Z',\n",
       "  'batchId': 0,\n",
       "  'numInputRows': 5846,\n",
       "  'processedRowsPerSecond': 2391.002044989775,\n",
       "  'durationMs': {'addBatch': 2111,\n",
       "   'getBatch': 42,\n",
       "   'queryPlanning': 13,\n",
       "   'triggerExecution': 2445},\n",
       "  'stateOperators': [],\n",
       "  'sources': [{'description': 'FileStreamSource[hdfs://node-master:9000/user/root/onibus/source2/*/*]',\n",
       "    'startOffset': None,\n",
       "    'endOffset': {'logOffset': 0},\n",
       "    'numInputRows': 5846,\n",
       "    'processedRowsPerSecond': 2391.002044989775}],\n",
       "  'sink': {'description': 'ForeachBatchSink'}},\n",
       " {'id': 'aaa8d33d-2584-4d1f-a3b7-e3c707e0552c',\n",
       "  'runId': '33371245-cde2-4d37-9e90-9f308cd8792e',\n",
       "  'name': None,\n",
       "  'timestamp': '2023-08-25T00:54:00.001Z',\n",
       "  'batchId': 1,\n",
       "  'numInputRows': 16660,\n",
       "  'inputRowsPerSecond': 576.2911204123284,\n",
       "  'processedRowsPerSecond': 3360.90377244301,\n",
       "  'durationMs': {'addBatch': 3569,\n",
       "   'getBatch': 276,\n",
       "   'getOffset': 437,\n",
       "   'queryPlanning': 111,\n",
       "   'triggerExecution': 4957,\n",
       "   'walCommit': 247},\n",
       "  'stateOperators': [],\n",
       "  'sources': [{'description': 'FileStreamSource[hdfs://node-master:9000/user/root/onibus/source2/*/*]',\n",
       "    'startOffset': {'logOffset': 0},\n",
       "    'endOffset': {'logOffset': 1},\n",
       "    'numInputRows': 16660,\n",
       "    'inputRowsPerSecond': 576.2911204123284,\n",
       "    'processedRowsPerSecond': 3360.90377244301}],\n",
       "  'sink': {'description': 'ForeachBatchSink'}}]"
      ]
     },
     "execution_count": 120,
     "metadata": {},
     "output_type": "execute_result"
    }
   ],
   "source": [
    "stream_handle.recentProgress"
   ]
  },
  {
   "cell_type": "code",
   "execution_count": 97,
   "id": "a953dc79",
   "metadata": {},
   "outputs": [],
   "source": [
    "# stream_handle.stop()"
   ]
  },
  {
   "cell_type": "markdown",
   "id": "159eb286",
   "metadata": {},
   "source": [
    "> interrupt cell without stopping kernel: `ESC + I (2x)`<br/>\n",
    "> by Pedro Nora & ChatGPT"
   ]
  },
  {
   "cell_type": "code",
   "execution_count": 136,
   "id": "dc737885",
   "metadata": {
    "scrolled": true
   },
   "outputs": [
    {
     "name": "stdout",
     "output_type": "stream",
     "text": [
      "1 - fetching API\n",
      "2 - fetching API\n",
      "3 - fetching API\n",
      "4 - fetching API\n",
      "5 - fetching API\n",
      "6 - fetching API\n"
     ]
    }
   ],
   "source": [
    "p = Process(target=loop)\n",
    "p.start()"
   ]
  },
  {
   "cell_type": "code",
   "execution_count": 117,
   "id": "9ba3783b",
   "metadata": {
    "scrolled": false
   },
   "outputs": [
    {
     "name": "stdout",
     "output_type": "stream",
     "text": [
      "Found 4 items\r\n",
      "drwxr-xr-x   - root supergroup          0 2023-08-25 00:50 /user/root/onibus/source2/20230824_214956\r\n",
      "drwxr-xr-x   - root supergroup          0 2023-08-25 00:51 /user/root/onibus/source2/20230824_215108\r\n",
      "drwxr-xr-x   - root supergroup          0 2023-08-25 00:52 /user/root/onibus/source2/20230824_215211\r\n",
      "drwxr-xr-x   - root supergroup          0 2023-08-25 00:53 /user/root/onibus/source2/20230824_215316\r\n"
     ]
    }
   ],
   "source": [
    "! hadoop fs -ls /user/root/onibus/source2/"
   ]
  },
  {
   "cell_type": "code",
   "execution_count": 118,
   "id": "9b267c67",
   "metadata": {},
   "outputs": [
    {
     "name": "stdout",
     "output_type": "stream",
     "text": [
      "Found 2 items\r\n",
      "drwxr-xr-x   - root supergroup          0 2023-08-25 00:53 /user/root/onibus/sink2/20230824_215331\r\n",
      "drwxr-xr-x   - root supergroup          0 2023-08-25 00:54 /user/root/onibus/sink2/20230824_215401\r\n"
     ]
    }
   ],
   "source": [
    "! hadoop fs -ls /user/root/onibus/sink2/"
   ]
  },
  {
   "cell_type": "code",
   "execution_count": 141,
   "id": "2a8d59e4",
   "metadata": {},
   "outputs": [],
   "source": [
    "dir_source, dir_sink = \"/user/root/onibus/source2/*/*\", \"/user/root/onibus/sink2/*/*\""
   ]
  },
  {
   "cell_type": "code",
   "execution_count": 142,
   "id": "2836389a",
   "metadata": {},
   "outputs": [],
   "source": [
    "schema_sink = StructType([\n",
    "    StructField(\"ordem\", StringType(), True),\n",
    "    StructField(\"linha\", StringType(), True),\n",
    "    StructField(\"velocidade\", IntegerType(), True),\n",
    "])"
   ]
  },
  {
   "cell_type": "code",
   "execution_count": 143,
   "id": "8706e713",
   "metadata": {},
   "outputs": [],
   "source": [
    "df_sink = spark.read.schema(schema_sink).csv(dir_sink)"
   ]
  },
  {
   "cell_type": "code",
   "execution_count": 144,
   "id": "4b270c5a",
   "metadata": {},
   "outputs": [
    {
     "data": {
      "text/plain": [
       "(4550, 3)"
      ]
     },
     "execution_count": 144,
     "metadata": {},
     "output_type": "execute_result"
    }
   ],
   "source": [
    "shape(df_sink)"
   ]
  },
  {
   "cell_type": "code",
   "execution_count": 145,
   "id": "412651e8",
   "metadata": {},
   "outputs": [
    {
     "name": "stdout",
     "output_type": "stream",
     "text": [
      "+-----+-----+----------+\n",
      "|ordem|linha|velocidade|\n",
      "+-----+-----+----------+\n",
      "| null| null|      null|\n",
      "| null| null|      null|\n",
      "| null| null|      null|\n",
      "| null| null|      null|\n",
      "| null| null|      null|\n",
      "| null| null|      null|\n",
      "| null| null|      null|\n",
      "| null| null|      null|\n",
      "| null| null|      null|\n",
      "| null| null|      null|\n",
      "| null| null|      null|\n",
      "| null| null|      null|\n",
      "| null| null|      null|\n",
      "| null| null|      null|\n",
      "| null| null|      null|\n",
      "| null| null|      null|\n",
      "| null| null|      null|\n",
      "| null| null|      null|\n",
      "| null| null|      null|\n",
      "| null| null|      null|\n",
      "+-----+-----+----------+\n",
      "only showing top 20 rows\n",
      "\n"
     ]
    }
   ],
   "source": [
    "df_sink.show()"
   ]
  },
  {
   "cell_type": "code",
   "execution_count": 146,
   "id": "ad013e5c",
   "metadata": {},
   "outputs": [],
   "source": [
    "df_source = spark.read.schema(schema).json(dir_source)"
   ]
  },
  {
   "cell_type": "code",
   "execution_count": 147,
   "id": "80f564bd",
   "metadata": {},
   "outputs": [
    {
     "data": {
      "text/plain": [
       "(71685, 8)"
      ]
     },
     "execution_count": 147,
     "metadata": {},
     "output_type": "execute_result"
    }
   ],
   "source": [
    "shape(df_source)"
   ]
  }
 ],
 "metadata": {
  "kernelspec": {
   "display_name": "Python 3",
   "language": "python",
   "name": "python3"
  },
  "language_info": {
   "codemirror_mode": {
    "name": "ipython",
    "version": 3
   },
   "file_extension": ".py",
   "mimetype": "text/x-python",
   "name": "python",
   "nbconvert_exporter": "python",
   "pygments_lexer": "ipython3",
   "version": "3.6.9"
  }
 },
 "nbformat": 4,
 "nbformat_minor": 5
}
