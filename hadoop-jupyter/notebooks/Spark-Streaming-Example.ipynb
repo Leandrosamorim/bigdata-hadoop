{
 "cells": [
  {
   "cell_type": "code",
   "execution_count": 20,
   "id": "d961fdce",
   "metadata": {},
   "outputs": [],
   "source": [
    "import findspark\n",
    "findspark.init()\n",
    "from pyspark import SparkContext, SparkConf, SQLContext\n",
    "from pyspark.sql.types import StructType, StructField, IntegerType, StringType\n",
    "from pyspark.sql import SparkSession\n",
    "from pathlib import Path"
   ]
  },
  {
   "cell_type": "code",
   "execution_count": 21,
   "id": "5215ec54",
   "metadata": {},
   "outputs": [
    {
     "ename": "ValueError",
     "evalue": "Cannot run multiple SparkContexts at once; existing SparkContext(app=spark-streaming-example, master=yarn) created by __init__ at <ipython-input-2-2436b813b9cf>:2 ",
     "output_type": "error",
     "traceback": [
      "\u001b[0;31m\u001b[0m",
      "\u001b[0;31mValueError\u001b[0mTraceback (most recent call last)",
      "\u001b[0;32m<ipython-input-21-2436b813b9cf>\u001b[0m in \u001b[0;36m<module>\u001b[0;34m\u001b[0m\n\u001b[1;32m      1\u001b[0m \u001b[0mconf\u001b[0m \u001b[0;34m=\u001b[0m \u001b[0mSparkConf\u001b[0m\u001b[0;34m(\u001b[0m\u001b[0;34m)\u001b[0m\u001b[0;34m.\u001b[0m\u001b[0msetAppName\u001b[0m\u001b[0;34m(\u001b[0m\u001b[0;34m\"spark-streaming-example\"\u001b[0m\u001b[0;34m)\u001b[0m\u001b[0;34m\u001b[0m\u001b[0;34m\u001b[0m\u001b[0m\n\u001b[0;32m----> 2\u001b[0;31m \u001b[0msc\u001b[0m \u001b[0;34m=\u001b[0m \u001b[0mSparkContext\u001b[0m\u001b[0;34m(\u001b[0m\u001b[0mconf\u001b[0m\u001b[0;34m=\u001b[0m\u001b[0mconf\u001b[0m\u001b[0;34m)\u001b[0m\u001b[0;34m\u001b[0m\u001b[0;34m\u001b[0m\u001b[0m\n\u001b[0m\u001b[1;32m      3\u001b[0m \u001b[0mspark\u001b[0m \u001b[0;34m=\u001b[0m \u001b[0mSparkSession\u001b[0m\u001b[0;34m(\u001b[0m\u001b[0msc\u001b[0m\u001b[0;34m)\u001b[0m\u001b[0;34m\u001b[0m\u001b[0;34m\u001b[0m\u001b[0m\n",
      "\u001b[0;32m/opt/spark/python/pyspark/context.py\u001b[0m in \u001b[0;36m__init__\u001b[0;34m(self, master, appName, sparkHome, pyFiles, environment, batchSize, serializer, conf, gateway, jsc, profiler_cls)\u001b[0m\n\u001b[1;32m    131\u001b[0m                     \" note this option will be removed in Spark 3.0\")\n\u001b[1;32m    132\u001b[0m \u001b[0;34m\u001b[0m\u001b[0m\n\u001b[0;32m--> 133\u001b[0;31m         \u001b[0mSparkContext\u001b[0m\u001b[0;34m.\u001b[0m\u001b[0m_ensure_initialized\u001b[0m\u001b[0;34m(\u001b[0m\u001b[0mself\u001b[0m\u001b[0;34m,\u001b[0m \u001b[0mgateway\u001b[0m\u001b[0;34m=\u001b[0m\u001b[0mgateway\u001b[0m\u001b[0;34m,\u001b[0m \u001b[0mconf\u001b[0m\u001b[0;34m=\u001b[0m\u001b[0mconf\u001b[0m\u001b[0;34m)\u001b[0m\u001b[0;34m\u001b[0m\u001b[0;34m\u001b[0m\u001b[0m\n\u001b[0m\u001b[1;32m    134\u001b[0m         \u001b[0;32mtry\u001b[0m\u001b[0;34m:\u001b[0m\u001b[0;34m\u001b[0m\u001b[0;34m\u001b[0m\u001b[0m\n\u001b[1;32m    135\u001b[0m             self._do_init(master, appName, sparkHome, pyFiles, environment, batchSize, serializer,\n",
      "\u001b[0;32m/opt/spark/python/pyspark/context.py\u001b[0m in \u001b[0;36m_ensure_initialized\u001b[0;34m(cls, instance, gateway, conf)\u001b[0m\n\u001b[1;32m    330\u001b[0m                         \u001b[0;34m\" created by %s at %s:%s \"\u001b[0m\u001b[0;34m\u001b[0m\u001b[0;34m\u001b[0m\u001b[0m\n\u001b[1;32m    331\u001b[0m                         % (currentAppName, currentMaster,\n\u001b[0;32m--> 332\u001b[0;31m                             callsite.function, callsite.file, callsite.linenum))\n\u001b[0m\u001b[1;32m    333\u001b[0m                 \u001b[0;32melse\u001b[0m\u001b[0;34m:\u001b[0m\u001b[0;34m\u001b[0m\u001b[0;34m\u001b[0m\u001b[0m\n\u001b[1;32m    334\u001b[0m                     \u001b[0mSparkContext\u001b[0m\u001b[0;34m.\u001b[0m\u001b[0m_active_spark_context\u001b[0m \u001b[0;34m=\u001b[0m \u001b[0minstance\u001b[0m\u001b[0;34m\u001b[0m\u001b[0;34m\u001b[0m\u001b[0m\n",
      "\u001b[0;31mValueError\u001b[0m: Cannot run multiple SparkContexts at once; existing SparkContext(app=spark-streaming-example, master=yarn) created by __init__ at <ipython-input-2-2436b813b9cf>:2 "
     ]
    }
   ],
   "source": [
    "conf = SparkConf().setAppName(\"spark-streaming-example\")\n",
    "sc = SparkContext(conf=conf)\n",
    "spark = SparkSession(sc)"
   ]
  },
  {
   "cell_type": "code",
   "execution_count": null,
   "id": "4922b88f",
   "metadata": {},
   "outputs": [],
   "source": [
    "! hadoop fs -put ../datasets/f1"
   ]
  },
  {
   "cell_type": "code",
   "execution_count": null,
   "id": "8e539c35",
   "metadata": {},
   "outputs": [],
   "source": [
    "! hadoop fs -ls /user/root/f1"
   ]
  },
  {
   "cell_type": "code",
   "execution_count": null,
   "id": "b30305b3",
   "metadata": {},
   "outputs": [],
   "source": [
    "! hadoop fs -mkdir /user/root/f1/drivers"
   ]
  },
  {
   "cell_type": "code",
   "execution_count": null,
   "id": "696c63cf",
   "metadata": {},
   "outputs": [],
   "source": [
    "! hadoop fs -mkdir /user/root/output"
   ]
  },
  {
   "cell_type": "code",
   "execution_count": null,
   "id": "b0b0b177",
   "metadata": {},
   "outputs": [],
   "source": [
    "! hadoop fs -cp /user/root/f1/drivers.csv /user/root/f1/drivers/data.csv"
   ]
  },
  {
   "cell_type": "code",
   "execution_count": null,
   "id": "e2244516",
   "metadata": {},
   "outputs": [],
   "source": [
    "! hadoop fs -ls /user/root/f1/drivers"
   ]
  },
  {
   "cell_type": "code",
   "execution_count": null,
   "id": "00548ac2",
   "metadata": {},
   "outputs": [],
   "source": [
    "schema = StructType([\n",
    "    StructField(\"driverId\", IntegerType(), True),\n",
    "    StructField(\"driverRef\", StringType(), True),\n",
    "    StructField(\"number\", IntegerType(), True),\n",
    "    StructField(\"code\", StringType(), True),\n",
    "    StructField(\"forename\", StringType(), True),\n",
    "    StructField(\"surname\", StringType(), True),\n",
    "    StructField(\"dob\", StringType(), True),\n",
    "    StructField(\"nationality\", StringType(), True),\n",
    "    StructField(\"url\", StringType(), True),\n",
    "])"
   ]
  },
  {
   "cell_type": "code",
   "execution_count": null,
   "id": "ffe1afff",
   "metadata": {},
   "outputs": [],
   "source": [
    "sdf = spark.readStream.csv(\n",
    "    path=\"/user/root/f1/drivers\",\n",
    "    schema=schema,\n",
    "    sep=\",\",\n",
    "    encoding=\"iso-8859-1\",\n",
    "    quote='\"',\n",
    "    header=True,\n",
    ")"
   ]
  },
  {
   "cell_type": "code",
   "execution_count": null,
   "id": "fd9e0dff",
   "metadata": {},
   "outputs": [],
   "source": [
    "def handle_data(batch_df, batch_id):\n",
    "    batch_df.persist()\n",
    "    batch_df.write.format(\n",
    "        \"csv\"\n",
    "    ).option(\n",
    "        \"path\", \"/user/root/output\"\n",
    "    ).mode(\n",
    "        \"write\"\n",
    "    ).save()\n",
    "    batch_df.unpersist()"
   ]
  },
  {
   "cell_type": "code",
   "execution_count": null,
   "id": "1d3078b7",
   "metadata": {},
   "outputs": [],
   "source": [
    "sb = sdf.writeStream.outputMode(\"append\").foreachBatch(handle_data).start()"
   ]
  },
  {
   "cell_type": "code",
   "execution_count": null,
   "id": "b5db0dc4",
   "metadata": {},
   "outputs": [],
   "source": [
    "!echo '1002,\"jp\",99,\"jp\",\"Joao\",\"Pinheiro\",\"1988-11-17\",\"Brazil\",\"www.google.com\"' | hdfs dfs -appendToFile - /user/root/f1/drivers/data.csv"
   ]
  },
  {
   "cell_type": "code",
   "execution_count": null,
   "id": "77c16e87",
   "metadata": {},
   "outputs": [],
   "source": [
    "!echo '1003,\"jp\",99,\"jp\",\"Joao\",\"Pinheiro\",\"1988-11-17\",\"Brazil\",\"www.google.com\"' | hdfs dfs -put - /user/root/f1/drivers/data1.csv"
   ]
  },
  {
   "cell_type": "code",
   "execution_count": null,
   "id": "8d956f52",
   "metadata": {},
   "outputs": [],
   "source": [
    "!echo '1004,\"jp\",99,\"jp\",\"Joao\",\"Pinheiro\",\"1988-11-17\",\"Brazil\",\"www.google.com\"' | hdfs dfs -put - /user/root/f1/drivers/data2.csv"
   ]
  },
  {
   "cell_type": "code",
   "execution_count": null,
   "id": "9a93586a",
   "metadata": {},
   "outputs": [],
   "source": [
    "sb.isActive"
   ]
  },
  {
   "cell_type": "code",
   "execution_count": null,
   "id": "425e5ab5",
   "metadata": {},
   "outputs": [],
   "source": [
    "! hadoop fs -ls /user/root/output"
   ]
  },
  {
   "cell_type": "code",
   "execution_count": null,
   "id": "0aa36f21",
   "metadata": {},
   "outputs": [],
   "source": [
    "! hadoop fs -text /user/root/output/part-00000-21085dac-6505-443f-879a-ae876c8791d3-c000.csv"
   ]
  },
  {
   "cell_type": "code",
   "execution_count": null,
   "id": "c9768755",
   "metadata": {},
   "outputs": [],
   "source": [
    "! hadoop fs -text /user/root/f1/drivers/data.csv"
   ]
  }
 ],
 "metadata": {
  "kernelspec": {
   "display_name": "Python 3",
   "language": "python",
   "name": "python3"
  },
  "language_info": {
   "codemirror_mode": {
    "name": "ipython",
    "version": 3
   },
   "file_extension": ".py",
   "mimetype": "text/x-python",
   "name": "python",
   "nbconvert_exporter": "python",
   "pygments_lexer": "ipython3",
   "version": "3.6.9"
  }
 },
 "nbformat": 4,
 "nbformat_minor": 5
}
