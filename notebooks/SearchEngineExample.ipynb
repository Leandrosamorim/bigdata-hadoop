{
 "cells": [
  {
   "cell_type": "markdown",
   "id": "0c05c281",
   "metadata": {},
   "source": [
    "## Search Engine Example\n",
    "\n",
    "#### Passo a Passo\n",
    "\n",
    "- Adicionar arquivo com texto corrido no Hadoop FS (extensão TXT)\n",
    "  - pode ser o arquivo `alice_in_wonderland.txt`\n",
    "- Adicionar arquivo com stop words (extensão TXT)\n",
    "  - [https://gist.github.com/sebleier/554280](https://gist.github.com/sebleier/554280)\n",
    "- Indexar sentenças do arquivo texto\n",
    "  - Leitura sentença a sentença\n",
    "  - Remoção das stop words\n",
    "  - Criar estrutura com palavras e quantidade de repetições\n",
    "- Transformar essa estrutura em um DataFrame\n",
    "- Criar uma tabela baseada no DataFrame\n",
    "- Consultar via PySpark SQL"
   ]
  },
  {
   "cell_type": "code",
   "execution_count": 1,
   "id": "29f75b2f",
   "metadata": {},
   "outputs": [],
   "source": [
    "import findspark\n",
    "findspark.init()\n",
    "from pyspark import SparkContext, SparkConf, SQLContext\n",
    "from pyspark.sql import SparkSession\n",
    "from pyspark.sql.functions import col, sum, avg, row_number, max\n",
    "from pyspark.sql.types import StructType, StructField, IntegerType, StringType\n",
    "from pyspark.sql.window import Window\n",
    "from pathlib import Path"
   ]
  },
  {
   "cell_type": "code",
   "execution_count": 2,
   "id": "c429d3f4",
   "metadata": {},
   "outputs": [],
   "source": [
    "conf = SparkConf().setAppName(\"search-engine-example\")\n",
    "sc = SparkContext(conf=conf)\n",
    "spark = SparkSession(sc)"
   ]
  },
  {
   "cell_type": "code",
   "execution_count": 3,
   "id": "13f09492",
   "metadata": {},
   "outputs": [],
   "source": [
    "def shape(df):\n",
    "    return (df.count(), len(df.columns))"
   ]
  },
  {
   "cell_type": "code",
   "execution_count": 4,
   "id": "c26776c1",
   "metadata": {},
   "outputs": [
    {
     "name": "stdout",
     "output_type": "stream",
     "text": [
      "CPU times: user 309 ms, sys: 152 ms, total: 462 ms\n",
      "Wall time: 9.51 s\n"
     ]
    }
   ],
   "source": [
    "%%time\n",
    "! hadoop fs -put ../datasets/alice_in_wonderland.txt"
   ]
  },
  {
   "cell_type": "code",
   "execution_count": 5,
   "id": "a16a40cd",
   "metadata": {},
   "outputs": [
    {
     "name": "stdout",
     "output_type": "stream",
     "text": [
      "Found 2 items\r\n",
      "drwxr-xr-x   - root supergroup          0 2023-03-24 23:14 hdfs://node-master:9000/user/root/.sparkStaging\r\n",
      "-rw-r--r--   2 root supergroup     152173 2023-03-24 23:15 hdfs://node-master:9000/user/root/alice_in_wonderland.txt\r\n"
     ]
    }
   ],
   "source": [
    "! hadoop fs -ls hdfs://node-master:9000/user/root"
   ]
  },
  {
   "cell_type": "code",
   "execution_count": null,
   "id": "3d626e21",
   "metadata": {},
   "outputs": [],
   "source": []
  }
 ],
 "metadata": {
  "kernelspec": {
   "display_name": "Python 3",
   "language": "python",
   "name": "python3"
  },
  "language_info": {
   "codemirror_mode": {
    "name": "ipython",
    "version": 3
   },
   "file_extension": ".py",
   "mimetype": "text/x-python",
   "name": "python",
   "nbconvert_exporter": "python",
   "pygments_lexer": "ipython3",
   "version": "3.6.9"
  }
 },
 "nbformat": 4,
 "nbformat_minor": 5
}
