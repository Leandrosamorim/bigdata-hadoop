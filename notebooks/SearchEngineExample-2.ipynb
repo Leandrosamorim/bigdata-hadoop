{
 "cells": [
  {
   "cell_type": "markdown",
   "id": "0c05c281",
   "metadata": {},
   "source": [
    "## Search Engine Example - 2\n",
    "\n",
    "#### Passo a Passo\n",
    "\n",
    "- Adicionar arquivo com texto corrido no Hadoop FS (extensão TXT)\n",
    "  - pode ser o arquivo `alice_in_wonderland.txt`\n",
    "- Adicionar arquivo com stop words (extensão TXT)\n",
    "  - [https://gist.github.com/sebleier/554280](https://gist.github.com/sebleier/554280)\n",
    "- Indexar sentenças do arquivo texto\n",
    "  - Leitura sentença a sentença\n",
    "  - Remoção das stop words\n",
    "  - Criar estrutura com palavras e quantidade de repetições\n",
    "- Transformar essa estrutura em um DataFrame\n",
    "- Criar uma tabela baseada no DataFrame\n",
    "- Consultar via PySpark SQL"
   ]
  },
  {
   "cell_type": "code",
   "execution_count": 150,
   "id": "29f75b2f",
   "metadata": {},
   "outputs": [],
   "source": [
    "import findspark\n",
    "findspark.init()\n",
    "from pyspark import SparkContext, SparkConf, SQLContext\n",
    "from pyspark.sql import SparkSession\n",
    "from pyspark.sql.functions import col, sum, avg, row_number, max, regexp_replace, trim, split\n",
    "from pyspark.sql.types import StructType, StructField, IntegerType, StringType\n",
    "from pyspark.sql.window import Window\n",
    "from pyspark.ml.feature import StopWordsRemover\n",
    "from pathlib import Path"
   ]
  },
  {
   "cell_type": "code",
   "execution_count": 2,
   "id": "c429d3f4",
   "metadata": {},
   "outputs": [],
   "source": [
    "conf = SparkConf().setAppName(\"search-engine-example-2\")\n",
    "sc = SparkContext(conf=conf)\n",
    "spark = SparkSession(sc)"
   ]
  },
  {
   "cell_type": "code",
   "execution_count": 3,
   "id": "c26776c1",
   "metadata": {},
   "outputs": [
    {
     "name": "stdout",
     "output_type": "stream",
     "text": [
      "CPU times: user 62.9 ms, sys: 49.1 ms, total: 112 ms\n",
      "Wall time: 3.33 s\n"
     ]
    }
   ],
   "source": [
    "%%time\n",
    "! hadoop fs -put ../datasets/alice_in_wonderland.txt"
   ]
  },
  {
   "cell_type": "code",
   "execution_count": 4,
   "id": "a16a40cd",
   "metadata": {},
   "outputs": [
    {
     "name": "stdout",
     "output_type": "stream",
     "text": [
      "Found 2 items\r\n",
      "drwxr-xr-x   - root supergroup          0 2023-03-27 20:12 hdfs://node-master:9000/user/root/.sparkStaging\r\n",
      "-rw-r--r--   2 root supergroup     148574 2023-03-27 20:13 hdfs://node-master:9000/user/root/alice_in_wonderland.txt\r\n"
     ]
    }
   ],
   "source": [
    "! hadoop fs -ls hdfs://node-master:9000/user/root"
   ]
  },
  {
   "cell_type": "markdown",
   "id": "c61e3372",
   "metadata": {},
   "source": [
    "### Auxiliary Functions"
   ]
  },
  {
   "cell_type": "code",
   "execution_count": 5,
   "id": "94b4a41f",
   "metadata": {},
   "outputs": [],
   "source": [
    "def shape(df):\n",
    "    return (df.count(), len(df.columns))"
   ]
  },
  {
   "cell_type": "markdown",
   "id": "9f75327d",
   "metadata": {},
   "source": [
    "### Reading txt file"
   ]
  },
  {
   "cell_type": "code",
   "execution_count": 6,
   "id": "8cd836d1",
   "metadata": {},
   "outputs": [],
   "source": [
    "dataset_path = \"hdfs://node-master:9000/user/root/alice_in_wonderland.txt\""
   ]
  },
  {
   "cell_type": "code",
   "execution_count": 115,
   "id": "c5aed7ac",
   "metadata": {},
   "outputs": [],
   "source": [
    "dfft_ = spark.read.format(\n",
    "    \"csv\"\n",
    ").option(\n",
    "    \"header\", \"false\"\n",
    ").schema(\n",
    "    StructType([StructField(\"full_text\", StringType(), True)])\n",
    ").load(\n",
    "    dataset_path\n",
    ")"
   ]
  },
  {
   "cell_type": "code",
   "execution_count": 116,
   "id": "7c735350",
   "metadata": {},
   "outputs": [
    {
     "data": {
      "text/plain": [
       "(2726, 1)"
      ]
     },
     "execution_count": 116,
     "metadata": {},
     "output_type": "execute_result"
    }
   ],
   "source": [
    "shape(dfft_)"
   ]
  },
  {
   "cell_type": "code",
   "execution_count": 117,
   "id": "7e72371e",
   "metadata": {},
   "outputs": [
    {
     "data": {
      "text/plain": [
       "[Row(full_text=\"Alice's Adventures in Wonderland\"),\n",
       " Row(full_text=\"                ALICE'S ADVENTURES IN WONDERLAND\"),\n",
       " Row(full_text='                          Lewis Carroll'),\n",
       " Row(full_text='               THE MILLENNIUM FULCRUM EDITION 3.0'),\n",
       " Row(full_text='                            CHAPTER I'),\n",
       " Row(full_text='                      Down the Rabbit-Hole'),\n",
       " Row(full_text='  Alice was beginning to get very tired of sitting by her sister'),\n",
       " Row(full_text='on the bank'),\n",
       " Row(full_text='peeped into the book her sister was reading'),\n",
       " Row(full_text='pictures or conversations in it'),\n",
       " Row(full_text=\"thought Alice `without pictures or conversation?'\"),\n",
       " Row(full_text='  So she was considering in her own mind (as well as she could'),\n",
       " Row(full_text='for the hot day made her feel very sleepy and stupid)'),\n",
       " Row(full_text='the pleasure of making a daisy-chain would be worth the trouble'),\n",
       " Row(full_text='of getting up and picking the daisies'),\n",
       " Row(full_text='Rabbit with pink eyes ran close by her.'),\n",
       " Row(full_text='  There was nothing so VERY remarkable in that; nor did Alice'),\n",
       " Row(full_text='think it so VERY much out of the way to hear the Rabbit say to'),\n",
       " Row(full_text='itself'),\n",
       " Row(full_text='it over afterwards')]"
      ]
     },
     "execution_count": 117,
     "metadata": {},
     "output_type": "execute_result"
    }
   ],
   "source": [
    "dfft_.head(20)"
   ]
  },
  {
   "cell_type": "code",
   "execution_count": 124,
   "id": "acf644a5",
   "metadata": {},
   "outputs": [],
   "source": [
    "dfft = spark.read.text(\n",
    "    [dataset_path],\n",
    "    lineSep=\"\\n\\n\"\n",
    ")"
   ]
  },
  {
   "cell_type": "code",
   "execution_count": 125,
   "id": "e595f252",
   "metadata": {},
   "outputs": [
    {
     "data": {
      "text/plain": [
       "(842, 1)"
      ]
     },
     "execution_count": 125,
     "metadata": {},
     "output_type": "execute_result"
    }
   ],
   "source": [
    "shape(dfft)"
   ]
  },
  {
   "cell_type": "code",
   "execution_count": 126,
   "id": "e1488173",
   "metadata": {},
   "outputs": [
    {
     "name": "stdout",
     "output_type": "stream",
     "text": [
      "root\n",
      " |-- value: string (nullable = true)\n",
      "\n"
     ]
    }
   ],
   "source": [
    "dfft.printSchema()"
   ]
  },
  {
   "cell_type": "code",
   "execution_count": 127,
   "id": "36011563",
   "metadata": {
    "scrolled": false
   },
   "outputs": [
    {
     "data": {
      "text/plain": [
       "[Row(value=\"Alice's Adventures in Wonderland\"),\n",
       " Row(value=\"                ALICE'S ADVENTURES IN WONDERLAND\"),\n",
       " Row(value='                          Lewis Carroll'),\n",
       " Row(value='               THE MILLENNIUM FULCRUM EDITION 3.0'),\n",
       " Row(value=''),\n",
       " Row(value='\\n                            CHAPTER I'),\n",
       " Row(value='                      Down the Rabbit-Hole'),\n",
       " Row(value=\"\\n  Alice was beginning to get very tired of sitting by her sister\\non the bank, and of having nothing to do:  once or twice she had\\npeeped into the book her sister was reading, but it had no\\npictures or conversations in it, `and what is the use of a book,'\\nthought Alice `without pictures or conversation?'\"),\n",
       " Row(value='  So she was considering in her own mind (as well as she could,\\nfor the hot day made her feel very sleepy and stupid), whether\\nthe pleasure of making a daisy-chain would be worth the trouble\\nof getting up and picking the daisies, when suddenly a White\\nRabbit with pink eyes ran close by her.'),\n",
       " Row(value=\"  There was nothing so VERY remarkable in that; nor did Alice\\nthink it so VERY much out of the way to hear the Rabbit say to\\nitself, `Oh dear!  Oh dear!  I shall be late!'  (when she thought\\nit over afterwards, it occurred to her that she ought to have\\nwondered at this, but at the time it all seemed quite natural);\\nbut when the Rabbit actually TOOK A WATCH OUT OF ITS WAISTCOAT-\\nPOCKET, and looked at it, and then hurried on, Alice started to\\nher feet, for it flashed across her mind that she had never\\nbefore seen a rabbit with either a waistcoat-pocket, or a watch to\\ntake out of it, and burning with curiosity, she ran across the\\nfield after it, and fortunately was just in time to see it pop\\ndown a large rabbit-hole under the hedge.\"),\n",
       " Row(value='  In another moment down went Alice after it, never once\\nconsidering how in the world she was to get out again.'),\n",
       " Row(value='  The rabbit-hole went straight on like a tunnel for some way,\\nand then dipped suddenly down, so suddenly that Alice had not a\\nmoment to think about stopping herself before she found herself\\nfalling down a very deep well.'),\n",
       " Row(value=\"  Either the well was very deep, or she fell very slowly, for she\\nhad plenty of time as she went down to look about her and to\\nwonder what was going to happen next.  First, she tried to look\\ndown and make out what she was coming to, but it was too dark to\\nsee anything; then she looked at the sides of the well, and\\nnoticed that they were filled with cupboards and book-shelves;\\nhere and there she saw maps and pictures hung upon pegs.  She\\ntook down a jar from one of the shelves as she passed; it was\\nlabelled `ORANGE MARMALADE', but to her great disappointment it\\nwas empty:  she did not like to drop the jar for fear of killing\\nsomebody, so managed to put it into one of the cupboards as she\\nfell past it.\"),\n",
       " Row(value=\"  `Well!' thought Alice to herself, `after such a fall as this, I\\nshall think nothing of tumbling down stairs!  How brave they'll\\nall think me at home!  Why, I wouldn't say anything about it,\\neven if I fell off the top of the house!' (Which was very likely\\ntrue.)\"),\n",
       " Row(value=\"  Down, down, down.  Would the fall NEVER come to an end!  `I\\nwonder how many miles I've fallen by this time?' she said aloud.\\n`I must be getting somewhere near the centre of the earth.  Let\\nme see:  that would be four thousand miles down, I think--' (for,\\nyou see, Alice had learnt several things of this sort in her\\nlessons in the schoolroom, and though this was not a VERY good\\nopportunity for showing off her knowledge, as there was no one to\\nlisten to her, still it was good practice to say it over) `--yes,\\nthat's about the right distance--but then I wonder what Latitude\\nor Longitude I've got to?'  (Alice had no idea what Latitude was,\\nor Longitude either, but thought they were nice grand words to\\nsay.)\"),\n",
       " Row(value=\"  Presently she began again.  `I wonder if I shall fall right\\nTHROUGH the earth!  How funny it'll seem to come out among the\\npeople that walk with their heads downward!  The Antipathies, I\\nthink--' (she was rather glad there WAS no one listening, this\\ntime, as it didn't sound at all the right word) `--but I shall\\nhave to ask them what the name of the country is, you know.\\nPlease, Ma'am, is this New Zealand or Australia?' (and she tried\\nto curtsey as she spoke--fancy CURTSEYING as you're falling\\nthrough the air!  Do you think you could manage it?)  `And what\\nan ignorant little girl she'll think me for asking!  No, it'll\\nnever do to ask:  perhaps I shall see it written up somewhere.'\"),\n",
       " Row(value=\"  Down, down, down.  There was nothing else to do, so Alice soon\\nbegan talking again.  `Dinah'll miss me very much to-night, I\\nshould think!'  (Dinah was the cat.)  `I hope they'll remember\\nher saucer of milk at tea-time.  Dinah my dear!  I wish you were\\ndown here with me!  There are no mice in the air, I'm afraid, but\\nyou might catch a bat, and that's very like a mouse, you know.\\nBut do cats eat bats, I wonder?'  And here Alice began to get\\nrather sleepy, and went on saying to herself, in a dreamy sort of\\nway, `Do cats eat bats?  Do cats eat bats?' and sometimes, `Do\\nbats eat cats?' for, you see, as she couldn't answer either\\nquestion, it didn't much matter which way she put it.  She felt\\nthat she was dozing off, and had just begun to dream that she\\nwas walking hand in hand with Dinah, and saying to her very\\nearnestly, `Now, Dinah, tell me the truth:  did you ever eat a\\nbat?' when suddenly, thump! thump! down she came upon a heap of\\nsticks and dry leaves, and the fall was over.\"),\n",
       " Row(value=\"  Alice was not a bit hurt, and she jumped up on to her feet in a\\nmoment:  she looked up, but it was all dark overhead; before her\\nwas another long passage, and the White Rabbit was still in\\nsight, hurrying down it.  There was not a moment to be lost:\\naway went Alice like the wind, and was just in time to hear it\\nsay, as it turned a corner, `Oh my ears and whiskers, how late\\nit's getting!'  She was close behind it when she turned the\\ncorner, but the Rabbit was no longer to be seen:  she found\\nherself in a long, low hall, which was lit up by a row of lamps\\nhanging from the roof.\"),\n",
       " Row(value='  There were doors all round the hall, but they were all locked;\\nand when Alice had been all the way down one side and up the\\nother, trying every door, she walked sadly down the middle,\\nwondering how she was ever to get out again.'),\n",
       " Row(value=\"  Suddenly she came upon a little three-legged table, all made of\\nsolid glass; there was nothing on it except a tiny golden key,\\nand Alice's first thought was that it might belong to one of the\\ndoors of the hall; but, alas! either the locks were too large, or\\nthe key was too small, but at any rate it would not open any of\\nthem.  However, on the second time round, she came upon a low\\ncurtain she had not noticed before, and behind it was a little\\ndoor about fifteen inches high:  she tried the little golden key\\nin the lock, and to her great delight it fitted!\")]"
      ]
     },
     "execution_count": 127,
     "metadata": {},
     "output_type": "execute_result"
    }
   ],
   "source": [
    "dfft.head(20)"
   ]
  },
  {
   "cell_type": "markdown",
   "id": "81ccf945",
   "metadata": {},
   "source": [
    "### Data Wrangling"
   ]
  },
  {
   "cell_type": "code",
   "execution_count": 128,
   "id": "c48c3ff1",
   "metadata": {},
   "outputs": [],
   "source": [
    "dfft_s1 = dfft.withColumn(\n",
    "    \"value_s1\", regexp_replace(col(\"value\"), \"[\\n\\`\\'\\;\\,]\", \" \")\n",
    ")"
   ]
  },
  {
   "cell_type": "code",
   "execution_count": 130,
   "id": "f7df76db",
   "metadata": {},
   "outputs": [
    {
     "data": {
      "text/plain": [
       "Row(value=\"\\n  Alice was beginning to get very tired of sitting by her sister\\non the bank, and of having nothing to do:  once or twice she had\\npeeped into the book her sister was reading, but it had no\\npictures or conversations in it, `and what is the use of a book,'\\nthought Alice `without pictures or conversation?'\", value_s1='   Alice was beginning to get very tired of sitting by her sister on the bank  and of having nothing to do:  once or twice she had peeped into the book her sister was reading  but it had no pictures or conversations in it   and what is the use of a book   thought Alice  without pictures or conversation? ')"
      ]
     },
     "execution_count": 130,
     "metadata": {},
     "output_type": "execute_result"
    }
   ],
   "source": [
    "dfft_s1.collect()[7]"
   ]
  },
  {
   "cell_type": "code",
   "execution_count": 133,
   "id": "7a572f89",
   "metadata": {},
   "outputs": [],
   "source": [
    "dfft_s2 = dfft_s1.withColumn(\n",
    "    \"value_s2\", regexp_replace(col(\"value_s1\"), \"[^A-z0-9\\ ]\", \"\")\n",
    ")"
   ]
  },
  {
   "cell_type": "code",
   "execution_count": 134,
   "id": "77b9c1ae",
   "metadata": {},
   "outputs": [
    {
     "data": {
      "text/plain": [
       "Row(value=\"\\n  Alice was beginning to get very tired of sitting by her sister\\non the bank, and of having nothing to do:  once or twice she had\\npeeped into the book her sister was reading, but it had no\\npictures or conversations in it, `and what is the use of a book,'\\nthought Alice `without pictures or conversation?'\", value_s1='   Alice was beginning to get very tired of sitting by her sister on the bank  and of having nothing to do:  once or twice she had peeped into the book her sister was reading  but it had no pictures or conversations in it   and what is the use of a book   thought Alice  without pictures or conversation? ', value_s2='   Alice was beginning to get very tired of sitting by her sister on the bank  and of having nothing to do  once or twice she had peeped into the book her sister was reading  but it had no pictures or conversations in it   and what is the use of a book   thought Alice  without pictures or conversation ')"
      ]
     },
     "execution_count": 134,
     "metadata": {},
     "output_type": "execute_result"
    }
   ],
   "source": [
    "dfft_s2.collect()[7]"
   ]
  },
  {
   "cell_type": "code",
   "execution_count": 138,
   "id": "795ac366",
   "metadata": {},
   "outputs": [],
   "source": [
    "dfft_s3 = dfft_s2.select(\n",
    "    \"value\",\n",
    "    \"value_s1\",\n",
    "    \"value_s2\",\n",
    "    trim(col(\"value_s2\")).alias(\"value_s3\")\n",
    ")"
   ]
  },
  {
   "cell_type": "code",
   "execution_count": 139,
   "id": "100823e2",
   "metadata": {},
   "outputs": [
    {
     "data": {
      "text/plain": [
       "Row(value=\"\\n  Alice was beginning to get very tired of sitting by her sister\\non the bank, and of having nothing to do:  once or twice she had\\npeeped into the book her sister was reading, but it had no\\npictures or conversations in it, `and what is the use of a book,'\\nthought Alice `without pictures or conversation?'\", value_s1='   Alice was beginning to get very tired of sitting by her sister on the bank  and of having nothing to do:  once or twice she had peeped into the book her sister was reading  but it had no pictures or conversations in it   and what is the use of a book   thought Alice  without pictures or conversation? ', value_s2='   Alice was beginning to get very tired of sitting by her sister on the bank  and of having nothing to do  once or twice she had peeped into the book her sister was reading  but it had no pictures or conversations in it   and what is the use of a book   thought Alice  without pictures or conversation ', value_s3='Alice was beginning to get very tired of sitting by her sister on the bank  and of having nothing to do  once or twice she had peeped into the book her sister was reading  but it had no pictures or conversations in it   and what is the use of a book   thought Alice  without pictures or conversation')"
      ]
     },
     "execution_count": 139,
     "metadata": {},
     "output_type": "execute_result"
    }
   ],
   "source": [
    "dfft_s3.collect()[7]"
   ]
  },
  {
   "cell_type": "code",
   "execution_count": 140,
   "id": "48c92dff",
   "metadata": {},
   "outputs": [],
   "source": [
    "dfft_s4 = dfft_s3.withColumn(\n",
    "    \"value_s4\", regexp_replace(col(\"value_s3\"), \"\\s+\", \" \")\n",
    ")"
   ]
  },
  {
   "cell_type": "code",
   "execution_count": 141,
   "id": "af03484c",
   "metadata": {},
   "outputs": [
    {
     "data": {
      "text/plain": [
       "Row(value=\"\\n  Alice was beginning to get very tired of sitting by her sister\\non the bank, and of having nothing to do:  once or twice she had\\npeeped into the book her sister was reading, but it had no\\npictures or conversations in it, `and what is the use of a book,'\\nthought Alice `without pictures or conversation?'\", value_s1='   Alice was beginning to get very tired of sitting by her sister on the bank  and of having nothing to do:  once or twice she had peeped into the book her sister was reading  but it had no pictures or conversations in it   and what is the use of a book   thought Alice  without pictures or conversation? ', value_s2='   Alice was beginning to get very tired of sitting by her sister on the bank  and of having nothing to do  once or twice she had peeped into the book her sister was reading  but it had no pictures or conversations in it   and what is the use of a book   thought Alice  without pictures or conversation ', value_s3='Alice was beginning to get very tired of sitting by her sister on the bank  and of having nothing to do  once or twice she had peeped into the book her sister was reading  but it had no pictures or conversations in it   and what is the use of a book   thought Alice  without pictures or conversation', value_s4='Alice was beginning to get very tired of sitting by her sister on the bank and of having nothing to do once or twice she had peeped into the book her sister was reading but it had no pictures or conversations in it and what is the use of a book thought Alice without pictures or conversation')"
      ]
     },
     "execution_count": 141,
     "metadata": {},
     "output_type": "execute_result"
    }
   ],
   "source": [
    "dfft_s4.collect()[7]"
   ]
  },
  {
   "cell_type": "code",
   "execution_count": 144,
   "id": "fe8c4966",
   "metadata": {},
   "outputs": [],
   "source": [
    "dfftc = dfft_s4.withColumn(\"paragraph\", col(\"value_s4\")).select(\"paragraph\")"
   ]
  },
  {
   "cell_type": "code",
   "execution_count": 146,
   "id": "8f4e12c3",
   "metadata": {},
   "outputs": [
    {
     "name": "stdout",
     "output_type": "stream",
     "text": [
      "+--------------------+\n",
      "|           paragraph|\n",
      "+--------------------+\n",
      "|Alice s Adventure...|\n",
      "|ALICE S ADVENTURE...|\n",
      "|       Lewis Carroll|\n",
      "|THE MILLENNIUM FU...|\n",
      "|                    |\n",
      "|           CHAPTER I|\n",
      "| Down the RabbitHole|\n",
      "|Alice was beginni...|\n",
      "|So she was consid...|\n",
      "|There was nothing...|\n",
      "|In another moment...|\n",
      "|The rabbithole we...|\n",
      "|Either the well w...|\n",
      "|Well thought Alic...|\n",
      "|Down down down Wo...|\n",
      "|Presently she beg...|\n",
      "|Down down down Th...|\n",
      "|Alice was not a b...|\n",
      "|There were doors ...|\n",
      "|Suddenly she came...|\n",
      "+--------------------+\n",
      "only showing top 20 rows\n",
      "\n"
     ]
    }
   ],
   "source": [
    "dfftc.show()"
   ]
  },
  {
   "cell_type": "markdown",
   "id": "53bbb8e1",
   "metadata": {},
   "source": [
    "### Removing Stop Words"
   ]
  },
  {
   "cell_type": "code",
   "execution_count": 152,
   "id": "00e143d1",
   "metadata": {},
   "outputs": [
    {
     "ename": "TypeError",
     "evalue": "'Column' object is not callable",
     "output_type": "error",
     "traceback": [
      "\u001b[0;31m\u001b[0m",
      "\u001b[0;31mTypeError\u001b[0mTraceback (most recent call last)",
      "\u001b[0;32m<ipython-input-152-e839b6287a17>\u001b[0m in \u001b[0;36m<module>\u001b[0;34m\u001b[0m\n\u001b[0;32m----> 1\u001b[0;31m \u001b[0mdfftc_s1\u001b[0m \u001b[0;34m=\u001b[0m \u001b[0mdfftc\u001b[0m\u001b[0;34m.\u001b[0m\u001b[0mwithColumn\u001b[0m\u001b[0;34m(\u001b[0m\u001b[0;34m\"words\"\u001b[0m\u001b[0;34m,\u001b[0m \u001b[0mcol\u001b[0m\u001b[0;34m(\u001b[0m\u001b[0;34m\"paragraph\"\u001b[0m\u001b[0;34m)\u001b[0m\u001b[0;34m.\u001b[0m\u001b[0msplit\u001b[0m\u001b[0;34m(\u001b[0m\u001b[0;34m\" \"\u001b[0m\u001b[0;34m)\u001b[0m\u001b[0;34m)\u001b[0m\u001b[0;34m\u001b[0m\u001b[0;34m\u001b[0m\u001b[0m\n\u001b[0m",
      "\u001b[0;31mTypeError\u001b[0m: 'Column' object is not callable"
     ]
    }
   ],
   "source": [
    "dfftc_s1 = dfftc.withColumn(\"words\", col(\"paragraph\").split(\" \"))"
   ]
  },
  {
   "cell_type": "code",
   "execution_count": 151,
   "id": "62801cb2",
   "metadata": {},
   "outputs": [],
   "source": [
    "remover = StopWordsRemover(inputCol=\"words\", outputCol=\"keys\")"
   ]
  },
  {
   "cell_type": "code",
   "execution_count": 149,
   "id": "f0070430",
   "metadata": {},
   "outputs": [
    {
     "ename": "IllegalArgumentException",
     "evalue": "'requirement failed: Input type must be array<string> but got string.'",
     "output_type": "error",
     "traceback": [
      "\u001b[0;31m\u001b[0m",
      "\u001b[0;31mPy4JJavaError\u001b[0mTraceback (most recent call last)",
      "\u001b[0;32m/opt/spark/python/pyspark/sql/utils.py\u001b[0m in \u001b[0;36mdeco\u001b[0;34m(*a, **kw)\u001b[0m\n\u001b[1;32m     62\u001b[0m         \u001b[0;32mtry\u001b[0m\u001b[0;34m:\u001b[0m\u001b[0;34m\u001b[0m\u001b[0;34m\u001b[0m\u001b[0m\n\u001b[0;32m---> 63\u001b[0;31m             \u001b[0;32mreturn\u001b[0m \u001b[0mf\u001b[0m\u001b[0;34m(\u001b[0m\u001b[0;34m*\u001b[0m\u001b[0ma\u001b[0m\u001b[0;34m,\u001b[0m \u001b[0;34m**\u001b[0m\u001b[0mkw\u001b[0m\u001b[0;34m)\u001b[0m\u001b[0;34m\u001b[0m\u001b[0;34m\u001b[0m\u001b[0m\n\u001b[0m\u001b[1;32m     64\u001b[0m         \u001b[0;32mexcept\u001b[0m \u001b[0mpy4j\u001b[0m\u001b[0;34m.\u001b[0m\u001b[0mprotocol\u001b[0m\u001b[0;34m.\u001b[0m\u001b[0mPy4JJavaError\u001b[0m \u001b[0;32mas\u001b[0m \u001b[0me\u001b[0m\u001b[0;34m:\u001b[0m\u001b[0;34m\u001b[0m\u001b[0;34m\u001b[0m\u001b[0m\n",
      "\u001b[0;32m/opt/spark/python/lib/py4j-0.10.7-src.zip/py4j/protocol.py\u001b[0m in \u001b[0;36mget_return_value\u001b[0;34m(answer, gateway_client, target_id, name)\u001b[0m\n\u001b[1;32m    327\u001b[0m                     \u001b[0;34m\"An error occurred while calling {0}{1}{2}.\\n\"\u001b[0m\u001b[0;34m.\u001b[0m\u001b[0;34m\u001b[0m\u001b[0;34m\u001b[0m\u001b[0m\n\u001b[0;32m--> 328\u001b[0;31m                     format(target_id, \".\", name), value)\n\u001b[0m\u001b[1;32m    329\u001b[0m             \u001b[0;32melse\u001b[0m\u001b[0;34m:\u001b[0m\u001b[0;34m\u001b[0m\u001b[0;34m\u001b[0m\u001b[0m\n",
      "\u001b[0;31mPy4JJavaError\u001b[0m: An error occurred while calling o654.transform.\n: java.lang.IllegalArgumentException: requirement failed: Input type must be array<string> but got string.\n\tat scala.Predef$.require(Predef.scala:224)\n\tat org.apache.spark.ml.feature.StopWordsRemover.transformSchema(StopWordsRemover.scala:134)\n\tat org.apache.spark.ml.feature.StopWordsRemover.transform(StopWordsRemover.scala:113)\n\tat sun.reflect.NativeMethodAccessorImpl.invoke0(Native Method)\n\tat sun.reflect.NativeMethodAccessorImpl.invoke(NativeMethodAccessorImpl.java:62)\n\tat sun.reflect.DelegatingMethodAccessorImpl.invoke(DelegatingMethodAccessorImpl.java:43)\n\tat java.lang.reflect.Method.invoke(Method.java:498)\n\tat py4j.reflection.MethodInvoker.invoke(MethodInvoker.java:244)\n\tat py4j.reflection.ReflectionEngine.invoke(ReflectionEngine.java:357)\n\tat py4j.Gateway.invoke(Gateway.java:282)\n\tat py4j.commands.AbstractCommand.invokeMethod(AbstractCommand.java:132)\n\tat py4j.commands.CallCommand.execute(CallCommand.java:79)\n\tat py4j.GatewayConnection.run(GatewayConnection.java:238)\n\tat java.lang.Thread.run(Thread.java:750)\n",
      "\nDuring handling of the above exception, another exception occurred:\n",
      "\u001b[0;31mIllegalArgumentException\u001b[0mTraceback (most recent call last)",
      "\u001b[0;32m<ipython-input-149-f4f1051a3d7a>\u001b[0m in \u001b[0;36m<module>\u001b[0;34m\u001b[0m\n\u001b[0;32m----> 1\u001b[0;31m \u001b[0mremover\u001b[0m\u001b[0;34m.\u001b[0m\u001b[0mtransform\u001b[0m\u001b[0;34m(\u001b[0m\u001b[0mdfftc\u001b[0m\u001b[0;34m)\u001b[0m\u001b[0;34m.\u001b[0m\u001b[0mshow\u001b[0m\u001b[0;34m(\u001b[0m\u001b[0mtruncate\u001b[0m\u001b[0;34m=\u001b[0m\u001b[0;32mFalse\u001b[0m\u001b[0;34m)\u001b[0m\u001b[0;34m\u001b[0m\u001b[0;34m\u001b[0m\u001b[0m\n\u001b[0m",
      "\u001b[0;32m/opt/spark/python/pyspark/ml/base.py\u001b[0m in \u001b[0;36mtransform\u001b[0;34m(self, dataset, params)\u001b[0m\n\u001b[1;32m    171\u001b[0m                 \u001b[0;32mreturn\u001b[0m \u001b[0mself\u001b[0m\u001b[0;34m.\u001b[0m\u001b[0mcopy\u001b[0m\u001b[0;34m(\u001b[0m\u001b[0mparams\u001b[0m\u001b[0;34m)\u001b[0m\u001b[0;34m.\u001b[0m\u001b[0m_transform\u001b[0m\u001b[0;34m(\u001b[0m\u001b[0mdataset\u001b[0m\u001b[0;34m)\u001b[0m\u001b[0;34m\u001b[0m\u001b[0;34m\u001b[0m\u001b[0m\n\u001b[1;32m    172\u001b[0m             \u001b[0;32melse\u001b[0m\u001b[0;34m:\u001b[0m\u001b[0;34m\u001b[0m\u001b[0;34m\u001b[0m\u001b[0m\n\u001b[0;32m--> 173\u001b[0;31m                 \u001b[0;32mreturn\u001b[0m \u001b[0mself\u001b[0m\u001b[0;34m.\u001b[0m\u001b[0m_transform\u001b[0m\u001b[0;34m(\u001b[0m\u001b[0mdataset\u001b[0m\u001b[0;34m)\u001b[0m\u001b[0;34m\u001b[0m\u001b[0;34m\u001b[0m\u001b[0m\n\u001b[0m\u001b[1;32m    174\u001b[0m         \u001b[0;32melse\u001b[0m\u001b[0;34m:\u001b[0m\u001b[0;34m\u001b[0m\u001b[0;34m\u001b[0m\u001b[0m\n\u001b[1;32m    175\u001b[0m             \u001b[0;32mraise\u001b[0m \u001b[0mValueError\u001b[0m\u001b[0;34m(\u001b[0m\u001b[0;34m\"Params must be a param map but got %s.\"\u001b[0m \u001b[0;34m%\u001b[0m \u001b[0mtype\u001b[0m\u001b[0;34m(\u001b[0m\u001b[0mparams\u001b[0m\u001b[0;34m)\u001b[0m\u001b[0;34m)\u001b[0m\u001b[0;34m\u001b[0m\u001b[0;34m\u001b[0m\u001b[0m\n",
      "\u001b[0;32m/opt/spark/python/pyspark/ml/wrapper.py\u001b[0m in \u001b[0;36m_transform\u001b[0;34m(self, dataset)\u001b[0m\n\u001b[1;32m    310\u001b[0m     \u001b[0;32mdef\u001b[0m \u001b[0m_transform\u001b[0m\u001b[0;34m(\u001b[0m\u001b[0mself\u001b[0m\u001b[0;34m,\u001b[0m \u001b[0mdataset\u001b[0m\u001b[0;34m)\u001b[0m\u001b[0;34m:\u001b[0m\u001b[0;34m\u001b[0m\u001b[0;34m\u001b[0m\u001b[0m\n\u001b[1;32m    311\u001b[0m         \u001b[0mself\u001b[0m\u001b[0;34m.\u001b[0m\u001b[0m_transfer_params_to_java\u001b[0m\u001b[0;34m(\u001b[0m\u001b[0;34m)\u001b[0m\u001b[0;34m\u001b[0m\u001b[0;34m\u001b[0m\u001b[0m\n\u001b[0;32m--> 312\u001b[0;31m         \u001b[0;32mreturn\u001b[0m \u001b[0mDataFrame\u001b[0m\u001b[0;34m(\u001b[0m\u001b[0mself\u001b[0m\u001b[0;34m.\u001b[0m\u001b[0m_java_obj\u001b[0m\u001b[0;34m.\u001b[0m\u001b[0mtransform\u001b[0m\u001b[0;34m(\u001b[0m\u001b[0mdataset\u001b[0m\u001b[0;34m.\u001b[0m\u001b[0m_jdf\u001b[0m\u001b[0;34m)\u001b[0m\u001b[0;34m,\u001b[0m \u001b[0mdataset\u001b[0m\u001b[0;34m.\u001b[0m\u001b[0msql_ctx\u001b[0m\u001b[0;34m)\u001b[0m\u001b[0;34m\u001b[0m\u001b[0;34m\u001b[0m\u001b[0m\n\u001b[0m\u001b[1;32m    313\u001b[0m \u001b[0;34m\u001b[0m\u001b[0m\n\u001b[1;32m    314\u001b[0m \u001b[0;34m\u001b[0m\u001b[0m\n",
      "\u001b[0;32m/opt/spark/python/lib/py4j-0.10.7-src.zip/py4j/java_gateway.py\u001b[0m in \u001b[0;36m__call__\u001b[0;34m(self, *args)\u001b[0m\n\u001b[1;32m   1255\u001b[0m         \u001b[0manswer\u001b[0m \u001b[0;34m=\u001b[0m \u001b[0mself\u001b[0m\u001b[0;34m.\u001b[0m\u001b[0mgateway_client\u001b[0m\u001b[0;34m.\u001b[0m\u001b[0msend_command\u001b[0m\u001b[0;34m(\u001b[0m\u001b[0mcommand\u001b[0m\u001b[0;34m)\u001b[0m\u001b[0;34m\u001b[0m\u001b[0;34m\u001b[0m\u001b[0m\n\u001b[1;32m   1256\u001b[0m         return_value = get_return_value(\n\u001b[0;32m-> 1257\u001b[0;31m             answer, self.gateway_client, self.target_id, self.name)\n\u001b[0m\u001b[1;32m   1258\u001b[0m \u001b[0;34m\u001b[0m\u001b[0m\n\u001b[1;32m   1259\u001b[0m         \u001b[0;32mfor\u001b[0m \u001b[0mtemp_arg\u001b[0m \u001b[0;32min\u001b[0m \u001b[0mtemp_args\u001b[0m\u001b[0;34m:\u001b[0m\u001b[0;34m\u001b[0m\u001b[0;34m\u001b[0m\u001b[0m\n",
      "\u001b[0;32m/opt/spark/python/pyspark/sql/utils.py\u001b[0m in \u001b[0;36mdeco\u001b[0;34m(*a, **kw)\u001b[0m\n\u001b[1;32m     77\u001b[0m                 \u001b[0;32mraise\u001b[0m \u001b[0mQueryExecutionException\u001b[0m\u001b[0;34m(\u001b[0m\u001b[0ms\u001b[0m\u001b[0;34m.\u001b[0m\u001b[0msplit\u001b[0m\u001b[0;34m(\u001b[0m\u001b[0;34m': '\u001b[0m\u001b[0;34m,\u001b[0m \u001b[0;36m1\u001b[0m\u001b[0;34m)\u001b[0m\u001b[0;34m[\u001b[0m\u001b[0;36m1\u001b[0m\u001b[0;34m]\u001b[0m\u001b[0;34m,\u001b[0m \u001b[0mstackTrace\u001b[0m\u001b[0;34m)\u001b[0m\u001b[0;34m\u001b[0m\u001b[0;34m\u001b[0m\u001b[0m\n\u001b[1;32m     78\u001b[0m             \u001b[0;32mif\u001b[0m \u001b[0ms\u001b[0m\u001b[0;34m.\u001b[0m\u001b[0mstartswith\u001b[0m\u001b[0;34m(\u001b[0m\u001b[0;34m'java.lang.IllegalArgumentException: '\u001b[0m\u001b[0;34m)\u001b[0m\u001b[0;34m:\u001b[0m\u001b[0;34m\u001b[0m\u001b[0;34m\u001b[0m\u001b[0m\n\u001b[0;32m---> 79\u001b[0;31m                 \u001b[0;32mraise\u001b[0m \u001b[0mIllegalArgumentException\u001b[0m\u001b[0;34m(\u001b[0m\u001b[0ms\u001b[0m\u001b[0;34m.\u001b[0m\u001b[0msplit\u001b[0m\u001b[0;34m(\u001b[0m\u001b[0;34m': '\u001b[0m\u001b[0;34m,\u001b[0m \u001b[0;36m1\u001b[0m\u001b[0;34m)\u001b[0m\u001b[0;34m[\u001b[0m\u001b[0;36m1\u001b[0m\u001b[0;34m]\u001b[0m\u001b[0;34m,\u001b[0m \u001b[0mstackTrace\u001b[0m\u001b[0;34m)\u001b[0m\u001b[0;34m\u001b[0m\u001b[0;34m\u001b[0m\u001b[0m\n\u001b[0m\u001b[1;32m     80\u001b[0m             \u001b[0;32mraise\u001b[0m\u001b[0;34m\u001b[0m\u001b[0;34m\u001b[0m\u001b[0m\n\u001b[1;32m     81\u001b[0m     \u001b[0;32mreturn\u001b[0m \u001b[0mdeco\u001b[0m\u001b[0;34m\u001b[0m\u001b[0;34m\u001b[0m\u001b[0m\n",
      "\u001b[0;31mIllegalArgumentException\u001b[0m: 'requirement failed: Input type must be array<string> but got string.'"
     ]
    }
   ],
   "source": [
    "remover.transform(dfftc).show(truncate=False)"
   ]
  },
  {
   "cell_type": "code",
   "execution_count": null,
   "id": "da410d80",
   "metadata": {},
   "outputs": [],
   "source": []
  }
 ],
 "metadata": {
  "kernelspec": {
   "display_name": "Python 3",
   "language": "python",
   "name": "python3"
  },
  "language_info": {
   "codemirror_mode": {
    "name": "ipython",
    "version": 3
   },
   "file_extension": ".py",
   "mimetype": "text/x-python",
   "name": "python",
   "nbconvert_exporter": "python",
   "pygments_lexer": "ipython3",
   "version": "3.6.9"
  }
 },
 "nbformat": 4,
 "nbformat_minor": 5
}
