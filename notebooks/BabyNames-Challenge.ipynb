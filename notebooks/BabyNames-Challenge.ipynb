{
 "cells": [
  {
   "cell_type": "markdown",
   "id": "0c05c281",
   "metadata": {},
   "source": [
    "## Baby Names Challenge (1910 - 2015)\n",
    "\n",
    "#### Perguntas\n",
    "\n",
    "1. Qual o nome masculino mais popular na Califórnia em todos os tempos?\n",
    "\n",
    "2. Qual o nome mais popular e a quantidade de registros por estado?\n",
    "\n",
    "3. Plotar um gráfico com a evolução de nascimento de meninos e meninas em todo os EUA."
   ]
  },
  {
   "cell_type": "code",
   "execution_count": 1,
   "id": "29f75b2f",
   "metadata": {},
   "outputs": [],
   "source": [
    "import findspark\n",
    "findspark.init()\n",
    "from pyspark import SparkContext, SparkConf, SQLContext\n",
    "from pyspark.sql import SparkSession\n",
    "from pyspark.sql.functions import col, sum, avg\n",
    "from pathlib import Path"
   ]
  },
  {
   "cell_type": "code",
   "execution_count": 2,
   "id": "c429d3f4",
   "metadata": {},
   "outputs": [],
   "source": [
    "conf = SparkConf().setAppName(\"baby-names-challenge\")\n",
    "sc = SparkContext(conf=conf)\n",
    "spark = SparkSession(sc)"
   ]
  },
  {
   "cell_type": "code",
   "execution_count": 3,
   "id": "c26776c1",
   "metadata": {},
   "outputs": [
    {
     "name": "stdout",
     "output_type": "stream",
     "text": [
      "CPU times: user 3.24 s, sys: 854 ms, total: 4.09 s\n",
      "Wall time: 43.6 s\n"
     ]
    }
   ],
   "source": [
    "%%time\n",
    "! hadoop fs -put ../datasets/baby-names"
   ]
  },
  {
   "cell_type": "code",
   "execution_count": 4,
   "id": "a16a40cd",
   "metadata": {},
   "outputs": [
    {
     "name": "stdout",
     "output_type": "stream",
     "text": [
      "Found 2 items\r\n",
      "drwxr-xr-x   - root supergroup          0 2023-03-17 21:36 hdfs://node-master:9000/user/root/.sparkStaging\r\n",
      "drwxr-xr-x   - root supergroup          0 2023-03-17 21:38 hdfs://node-master:9000/user/root/baby-names\r\n"
     ]
    }
   ],
   "source": [
    "! hadoop fs -ls hdfs://node-master:9000/user/root"
   ]
  },
  {
   "cell_type": "code",
   "execution_count": 5,
   "id": "1b3cb8ef",
   "metadata": {},
   "outputs": [
    {
     "name": "stdout",
     "output_type": "stream",
     "text": [
      "Found 52 items\n",
      "-rw-r--r--   2 root supergroup     604325 2023-03-17 21:38 hdfs://node-master:9000/user/root/baby-names/AK.TXT\n",
      "-rw-r--r--   2 root supergroup    2867454 2023-03-17 21:38 hdfs://node-master:9000/user/root/baby-names/AL.TXT\n",
      "-rw-r--r--   2 root supergroup    2153187 2023-03-17 21:38 hdfs://node-master:9000/user/root/baby-names/AR.TXT\n",
      "-rw-r--r--   2 root supergroup    2511859 2023-03-17 21:38 hdfs://node-master:9000/user/root/baby-names/AZ.TXT\n",
      "-rw-r--r--   2 root supergroup    8299662 2023-03-17 21:38 hdfs://node-master:9000/user/root/baby-names/CA.TXT\n",
      "-rw-r--r--   2 root supergroup    2314618 2023-03-17 21:38 hdfs://node-master:9000/user/root/baby-names/CO.TXT\n",
      "-rw-r--r--   2 root supergroup    1753403 2023-03-17 21:38 hdfs://node-master:9000/user/root/baby-names/CT.TXT\n",
      "-rw-r--r--   2 root supergroup    1175394 2023-03-17 21:38 hdfs://node-master:9000/user/root/baby-names/DC.TXT\n",
      "-rw-r--r--   2 root supergroup     690194 2023-03-17 21:38 hdfs://node-master:9000/user/root/baby-names/DE.TXT\n",
      "-rw-r--r--   2 root supergroup    4508411 2023-03-17 21:38 hdfs://node-master:9000/user/root/baby-names/FL.TXT\n",
      "-rw-r--r--   2 root supergroup    3946784 2023-03-17 21:38 hdfs://node-master:9000/user/root/baby-names/GA.TXT\n",
      "-rw-r--r--   2 root supergroup    1141239 2023-03-17 21:38 hdfs://node-master:9000/user/root/baby-names/HI.TXT\n",
      "-rw-r--r--   2 root supergroup    1994702 2023-03-17 21:38 hdfs://node-master:9000/user/root/baby-names/IA.TXT\n",
      "-rw-r--r--   2 root supergroup    1225197 2023-03-17 21:38 hdfs://node-master:9000/user/root/baby-names/ID.TXT\n",
      "-rw-r--r--   2 root supergroup    4918761 2023-03-17 21:38 hdfs://node-master:9000/user/root/baby-names/IL.TXT\n",
      "-rw-r--r--   2 root supergroup    2988182 2023-03-17 21:38 hdfs://node-master:9000/user/root/baby-names/IN.TXT\n",
      "-rw-r--r--   2 root supergroup    1998895 2023-03-17 21:38 hdfs://node-master:9000/user/root/baby-names/KS.TXT\n",
      "-rw-r--r--   2 root supergroup    2514643 2023-03-17 21:38 hdfs://node-master:9000/user/root/baby-names/KY.TXT\n",
      "-rw-r--r--   2 root supergroup    3159560 2023-03-17 21:38 hdfs://node-master:9000/user/root/baby-names/LA.TXT\n",
      "-rw-r--r--   2 root supergroup    2556494 2023-03-17 21:38 hdfs://node-master:9000/user/root/baby-names/MA.TXT\n",
      "-rw-r--r--   2 root supergroup    2403051 2023-03-17 21:38 hdfs://node-master:9000/user/root/baby-names/MD.TXT\n",
      "-rw-r--r--   2 root supergroup    1065941 2023-03-17 21:38 hdfs://node-master:9000/user/root/baby-names/ME.TXT\n",
      "-rw-r--r--   2 root supergroup    3919809 2023-03-17 21:38 hdfs://node-master:9000/user/root/baby-names/MI.TXT\n",
      "-rw-r--r--   2 root supergroup    2446607 2023-03-17 21:38 hdfs://node-master:9000/user/root/baby-names/MN.TXT\n",
      "-rw-r--r--   2 root supergroup    2960844 2023-03-17 21:38 hdfs://node-master:9000/user/root/baby-names/MO.TXT\n",
      "-rw-r--r--   2 root supergroup    2409882 2023-03-17 21:38 hdfs://node-master:9000/user/root/baby-names/MS.TXT\n",
      "-rw-r--r--   2 root supergroup     955754 2023-03-17 21:38 hdfs://node-master:9000/user/root/baby-names/MT.TXT\n",
      "-rw-r--r--   2 root supergroup    3743768 2023-03-17 21:38 hdfs://node-master:9000/user/root/baby-names/NC.TXT\n",
      "-rw-r--r--   2 root supergroup     969716 2023-03-17 21:38 hdfs://node-master:9000/user/root/baby-names/ND.TXT\n",
      "-rw-r--r--   2 root supergroup    1524910 2023-03-17 21:38 hdfs://node-master:9000/user/root/baby-names/NE.TXT\n",
      "-rw-r--r--   2 root supergroup     833919 2023-03-17 21:38 hdfs://node-master:9000/user/root/baby-names/NH.TXT\n",
      "-rw-r--r--   2 root supergroup    3297693 2023-03-17 21:38 hdfs://node-master:9000/user/root/baby-names/NJ.TXT\n",
      "-rw-r--r--   2 root supergroup    1594202 2023-03-17 21:38 hdfs://node-master:9000/user/root/baby-names/NM.TXT\n",
      "-rw-r--r--   2 root supergroup    1039041 2023-03-17 21:38 hdfs://node-master:9000/user/root/baby-names/NV.TXT\n",
      "-rw-r--r--   2 root supergroup    6412651 2023-03-17 21:38 hdfs://node-master:9000/user/root/baby-names/NY.TXT\n",
      "-rw-r--r--   2 root supergroup    4213238 2023-03-17 21:38 hdfs://node-master:9000/user/root/baby-names/OH.TXT\n",
      "-rw-r--r--   2 root supergroup    2480513 2023-03-17 21:38 hdfs://node-master:9000/user/root/baby-names/OK.TXT\n",
      "-rw-r--r--   2 root supergroup    1888164 2023-03-17 21:38 hdfs://node-master:9000/user/root/baby-names/OR.TXT\n",
      "-rw-r--r--   2 root supergroup    4278696 2023-03-17 21:38 hdfs://node-master:9000/user/root/baby-names/PA.TXT\n",
      "-rw-r--r--   2 root supergroup     856710 2023-03-17 21:38 hdfs://node-master:9000/user/root/baby-names/RI.TXT\n",
      "-rw-r--r--   2 root supergroup    2525607 2023-03-17 21:38 hdfs://node-master:9000/user/root/baby-names/SC.TXT\n",
      "-rw-r--r--   2 root supergroup     992648 2023-03-17 21:38 hdfs://node-master:9000/user/root/baby-names/SD.TXT\n",
      "-rw-r--r--   2 root supergroup     165603 2023-03-17 21:38 hdfs://node-master:9000/user/root/baby-names/StateReadMe.pdf\n",
      "-rw-r--r--   2 root supergroup    3025839 2023-03-17 21:38 hdfs://node-master:9000/user/root/baby-names/TN.TXT\n",
      "-rw-r--r--   2 root supergroup    7659496 2023-03-17 21:38 hdfs://node-master:9000/user/root/baby-names/TX.TXT\n",
      "-rw-r--r--   2 root supergroup    1906933 2023-03-17 21:38 hdfs://node-master:9000/user/root/baby-names/UT.TXT\n",
      "-rw-r--r--   2 root supergroup    3180932 2023-03-17 21:38 hdfs://node-master:9000/user/root/baby-names/VA.TXT\n",
      "-rw-r--r--   2 root supergroup     603089 2023-03-17 21:38 hdfs://node-master:9000/user/root/baby-names/VT.TXT\n",
      "-rw-r--r--   2 root supergroup    2678847 2023-03-17 21:38 hdfs://node-master:9000/user/root/baby-names/WA.TXT\n",
      "-rw-r--r--   2 root supergroup    2496897 2023-03-17 21:38 hdfs://node-master:9000/user/root/baby-names/WI.TXT\n",
      "-rw-r--r--   2 root supergroup    1621220 2023-03-17 21:38 hdfs://node-master:9000/user/root/baby-names/WV.TXT\n",
      "-rw-r--r--   2 root supergroup     580692 2023-03-17 21:38 hdfs://node-master:9000/user/root/baby-names/WY.TXT\n"
     ]
    }
   ],
   "source": [
    "! hadoop fs -ls hdfs://node-master:9000/user/root/baby-names"
   ]
  }
 ],
 "metadata": {
  "kernelspec": {
   "display_name": "Python 3",
   "language": "python",
   "name": "python3"
  },
  "language_info": {
   "codemirror_mode": {
    "name": "ipython",
    "version": 3
   },
   "file_extension": ".py",
   "mimetype": "text/x-python",
   "name": "python",
   "nbconvert_exporter": "python",
   "pygments_lexer": "ipython3",
   "version": "3.6.9"
  }
 },
 "nbformat": 4,
 "nbformat_minor": 5
}
