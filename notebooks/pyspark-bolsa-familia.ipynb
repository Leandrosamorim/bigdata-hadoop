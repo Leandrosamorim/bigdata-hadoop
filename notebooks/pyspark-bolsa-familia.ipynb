{
 "cells": [
  {
   "cell_type": "markdown",
   "metadata": {},
   "source": [
    "# Boilerplate - inicialização padrão"
   ]
  },
  {
   "cell_type": "code",
   "execution_count": 33,
   "metadata": {},
   "outputs": [],
   "source": [
    "import findspark\n",
    "findspark.init()\n",
    "from pyspark import SparkContext, SparkConf, SQLContext\n",
    "from pyspark.sql import SparkSession"
   ]
  },
  {
   "cell_type": "code",
   "execution_count": 35,
   "metadata": {},
   "outputs": [],
   "source": [
    "conf = SparkConf().setAppName(\"pyspark-bolsa-familia\")\n",
    "sc = SparkContext(conf=conf)\n",
    "spark = SparkSession(sc)"
   ]
  },
  {
   "cell_type": "markdown",
   "metadata": {},
   "source": [
    "# Caso de Uso: Análise Pagamentos Bolsa Família"
   ]
  },
  {
   "cell_type": "markdown",
   "metadata": {},
   "source": [
    "#### Adicionando arquivo \"202001-bolsa-familia-pgto-sample.csv\" no HDFS"
   ]
  },
  {
   "cell_type": "code",
   "execution_count": 4,
   "metadata": {},
   "outputs": [],
   "source": [
    "! hadoop fs -put datasets/202001-bolsa-familia-pgto-sample.csv"
   ]
  },
  {
   "cell_type": "markdown",
   "metadata": {},
   "source": [
    "#### Verificando a adição no HDFS"
   ]
  },
  {
   "cell_type": "code",
   "execution_count": 13,
   "metadata": {},
   "outputs": [
    {
     "name": "stdout",
     "output_type": "stream",
     "text": [
      "Found 2 items\r\n",
      "drwxr-xr-x   - root supergroup          0 2023-02-17 20:05 hdfs://node-master:9000/user/root/.sparkStaging\r\n",
      "-rw-r--r--   2 root supergroup    5604051 2023-02-17 20:07 hdfs://node-master:9000/user/root/202001-bolsa-familia-pgto-sample.csv\r\n"
     ]
    }
   ],
   "source": [
    "! hadoop fs -ls hdfs://node-master:9000/user/root"
   ]
  },
  {
   "cell_type": "code",
   "execution_count": 11,
   "metadata": {},
   "outputs": [
    {
     "name": "stdout",
     "output_type": "stream",
     "text": [
      "Connecting to namenode via http://node-master:50070/fsck?ugi=root&files=1&blocks=1&path=%2Fuser%2Froot%2F202001-bolsa-familia-pgto-sample.csv\n",
      "FSCK started by root (auth:SIMPLE) from /172.20.0.4 for path /user/root/202001-bolsa-familia-pgto-sample.csv at Fri Feb 17 20:15:45 GMT 2023\n",
      "/user/root/202001-bolsa-familia-pgto-sample.csv 5604051 bytes, 1 block(s):  OK\n",
      "0. BP-1939772364-172.20.0.4-1676664136898:blk_1073741830_1006 len=5604051 repl=2\n",
      "\n",
      "Status: HEALTHY\n",
      " Total size:\t5604051 B\n",
      " Total dirs:\t0\n",
      " Total files:\t1\n",
      " Total symlinks:\t\t0\n",
      " Total blocks (validated):\t1 (avg. block size 5604051 B)\n",
      " Minimally replicated blocks:\t1 (100.0 %)\n",
      " Over-replicated blocks:\t0 (0.0 %)\n",
      " Under-replicated blocks:\t0 (0.0 %)\n",
      " Mis-replicated blocks:\t\t0 (0.0 %)\n",
      " Default replication factor:\t2\n",
      " Average block replication:\t2.0\n",
      " Corrupt blocks:\t\t0\n",
      " Missing replicas:\t\t0 (0.0 %)\n",
      " Number of data-nodes:\t\t2\n",
      " Number of racks:\t\t1\n",
      "FSCK ended at Fri Feb 17 20:15:45 GMT 2023 in 2 milliseconds\n",
      "\n",
      "\n",
      "The filesystem under path '/user/root/202001-bolsa-familia-pgto-sample.csv' is HEALTHY\n"
     ]
    }
   ],
   "source": [
    "! hdfs fsck hdfs://node-master:9000/user/root/202001-bolsa-familia-pgto-sample.csv -files -blocks"
   ]
  },
  {
   "cell_type": "markdown",
   "metadata": {},
   "source": [
    "#### Carregando DataFrame a partir de um caminho no HDFS"
   ]
  },
  {
   "cell_type": "code",
   "execution_count": 14,
   "metadata": {},
   "outputs": [],
   "source": [
    "HDFS_PATH_BOLSA_FAMILIA = \"hdfs://node-master:9000/user/root/202001-bolsa-familia-pgto-sample.csv\""
   ]
  },
  {
   "cell_type": "markdown",
   "metadata": {},
   "source": [
    "#### Encoding errado => UTF-8"
   ]
  },
  {
   "cell_type": "code",
   "execution_count": 61,
   "metadata": {},
   "outputs": [],
   "source": [
    "dfe = spark.read\\\n",
    "          .options(delimiter=\";\", header=True, encoding=\"utf-8\")\\\n",
    "          .csv(HDFS_PATH_BOLSA_FAMILIA)"
   ]
  },
  {
   "cell_type": "code",
   "execution_count": 62,
   "metadata": {},
   "outputs": [
    {
     "data": {
      "text/plain": [
       "Row(M�S COMPET�NCIA='202001', M�S REFER�NCIA='201901', UF='MG', C�DIGO MUNIC�PIO SIAFI='4123', NOME MUNIC�PIO='BELO HORIZONTE', CPF FAVORECIDO='***.361.206-**', NIS FAVORECIDO='12581466091', NOME FAVORECIDO='ADRIANA RANGEL SANSAO', VALOR PARCELA='253,00')"
      ]
     },
     "execution_count": 62,
     "metadata": {},
     "output_type": "execute_result"
    }
   ],
   "source": [
    "dfe.head()"
   ]
  },
  {
   "cell_type": "markdown",
   "metadata": {},
   "source": [
    "#### Encoding certo => ISO-8859-1"
   ]
  },
  {
   "cell_type": "code",
   "execution_count": 63,
   "metadata": {},
   "outputs": [],
   "source": [
    "df = spark.read\\\n",
    "          .options(delimiter=\";\", header=True, encoding=\"iso-8859-1\")\\\n",
    "          .csv(HDFS_PATH_BOLSA_FAMILIA)"
   ]
  },
  {
   "cell_type": "code",
   "execution_count": 64,
   "metadata": {},
   "outputs": [
    {
     "data": {
      "text/plain": [
       "Row(MÊS COMPETÊNCIA='202001', MÊS REFERÊNCIA='201901', UF='MG', CÓDIGO MUNICÍPIO SIAFI='4123', NOME MUNICÍPIO='BELO HORIZONTE', CPF FAVORECIDO='***.361.206-**', NIS FAVORECIDO='12581466091', NOME FAVORECIDO='ADRIANA RANGEL SANSAO', VALOR PARCELA='253,00')"
      ]
     },
     "execution_count": 64,
     "metadata": {},
     "output_type": "execute_result"
    }
   ],
   "source": [
    "df.head()"
   ]
  },
  {
   "cell_type": "markdown",
   "metadata": {},
   "source": [
    "#### Registrando DataFrame como Tabela"
   ]
  },
  {
   "cell_type": "code",
   "execution_count": 65,
   "metadata": {},
   "outputs": [],
   "source": [
    "df.registerTempTable(\"beneficiario\")"
   ]
  },
  {
   "cell_type": "markdown",
   "metadata": {},
   "source": [
    "#### Consultando dados com o comando `spark.sql`"
   ]
  },
  {
   "cell_type": "code",
   "execution_count": 75,
   "metadata": {},
   "outputs": [],
   "source": [
    "total = spark.sql(\"\"\"\n",
    "    select count(0) from beneficiario\n",
    "\"\"\")"
   ]
  },
  {
   "cell_type": "code",
   "execution_count": 76,
   "metadata": {},
   "outputs": [
    {
     "data": {
      "text/plain": [
       "DataFrame[count(0): bigint]"
      ]
     },
     "execution_count": 76,
     "metadata": {},
     "output_type": "execute_result"
    }
   ],
   "source": [
    "total"
   ]
  },
  {
   "cell_type": "code",
   "execution_count": 77,
   "metadata": {},
   "outputs": [
    {
     "name": "stdout",
     "output_type": "stream",
     "text": [
      "+--------+\n",
      "|count(0)|\n",
      "+--------+\n",
      "|   49999|\n",
      "+--------+\n",
      "\n"
     ]
    }
   ],
   "source": [
    "total.show()"
   ]
  },
  {
   "cell_type": "code",
   "execution_count": 86,
   "metadata": {},
   "outputs": [],
   "source": [
    "por_uf = spark.sql(\"\"\"\n",
    "    select UF, count(0) total\n",
    "    from beneficiario\n",
    "    group by UF\n",
    "    order by total desc\n",
    "\"\"\")"
   ]
  },
  {
   "cell_type": "code",
   "execution_count": 88,
   "metadata": {},
   "outputs": [
    {
     "name": "stdout",
     "output_type": "stream",
     "text": [
      "+---+-----+\n",
      "| UF|total|\n",
      "+---+-----+\n",
      "| SP| 7411|\n",
      "| BA| 7356|\n",
      "| RJ| 4085|\n",
      "| PA| 3602|\n",
      "| MA| 3440|\n",
      "| CE| 3338|\n",
      "| MG| 3239|\n",
      "| AM| 2646|\n",
      "| AL| 2389|\n",
      "| PE| 2321|\n",
      "+---+-----+\n",
      "only showing top 10 rows\n",
      "\n"
     ]
    }
   ],
   "source": [
    "por_uf.show(10)"
   ]
  },
  {
   "cell_type": "code",
   "execution_count": null,
   "metadata": {},
   "outputs": [],
   "source": []
  }
 ],
 "metadata": {
  "kernelspec": {
   "display_name": "Python 3",
   "language": "python",
   "name": "python3"
  },
  "language_info": {
   "codemirror_mode": {
    "name": "ipython",
    "version": 3
   },
   "file_extension": ".py",
   "mimetype": "text/x-python",
   "name": "python",
   "nbconvert_exporter": "python",
   "pygments_lexer": "ipython3",
   "version": "3.6.9"
  }
 },
 "nbformat": 4,
 "nbformat_minor": 2
}
